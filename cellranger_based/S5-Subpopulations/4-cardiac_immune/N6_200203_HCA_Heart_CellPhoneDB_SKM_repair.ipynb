{
 "cells": [
  {
   "cell_type": "markdown",
   "metadata": {},
   "source": [
    "### Import required modules"
   ]
  },
  {
   "cell_type": "code",
   "execution_count": 1,
   "metadata": {},
   "outputs": [
    {
     "name": "stderr",
     "output_type": "stream",
     "text": [
      "/opt/conda/lib/python3.7/site-packages/dask/config.py:161: YAMLLoadWarning: calling yaml.load() without Loader=... is deprecated, as the default Loader is unsafe. Please read https://msg.pyyaml.org/load for full details.\n",
      "  data = yaml.load(f.read()) or {}\n"
     ]
    }
   ],
   "source": [
    "import os\n",
    "import anndata\n",
    "import numpy as np\n",
    "import pandas as pd\n",
    "import scanpy as sc"
   ]
  },
  {
   "cell_type": "markdown",
   "metadata": {},
   "source": [
    "### Read object"
   ]
  },
  {
   "cell_type": "code",
   "execution_count": 2,
   "metadata": {},
   "outputs": [
    {
     "data": {
      "text/plain": [
       "(58132, 23434)"
      ]
     },
     "execution_count": 2,
     "metadata": {},
     "output_type": "execute_result"
    }
   ],
   "source": [
    "skm_repair_raw = sc.read_h5ad('/home/jovyan/data/skm/skm_scGEN_repair_ml200203_export.h5ad')\n",
    "skm_repair = anndata.AnnData(X = skm_repair_raw.raw.X, var = skm_repair_raw.raw.var, obs = skm_repair_raw.obs, obsm = skm_repair_raw.obsm)\n",
    "skm_repair.shape"
   ]
  },
  {
   "cell_type": "code",
   "execution_count": 3,
   "metadata": {},
   "outputs": [
    {
     "data": {
      "text/plain": [
       "Index(['B-cells13_MZB1+', 'B-cells14_MS4A1+', 'FB1_APOD+', 'FB2_PRG4+', 'FB3',\n",
       "       'Fast_Myocyte10_TNNC1', 'Immune6', 'Mast-cells17_CPA3+',\n",
       "       'Myeloid8_S100A12+', 'Myeloid16_CD1E+', 'Myocyte0', 'Myocyte1',\n",
       "       'Myocyte2', 'Myocyte4', 'Myocyte5', 'MØ6', 'NK-cells12_CD274+',\n",
       "       'Slow_Myocyte9_TNNT3', 'T-cells7'],\n",
       "      dtype='object')"
      ]
     },
     "execution_count": 3,
     "metadata": {},
     "output_type": "execute_result"
    }
   ],
   "source": [
    "skm_repair.obs['cell_states'] = skm_repair.obs['leiden_annotated']\n",
    "skm_repair.obs['cell_states'].cat.categories"
   ]
  },
  {
   "cell_type": "code",
   "execution_count": 4,
   "metadata": {},
   "outputs": [
    {
     "data": {
      "text/plain": [
       "(58132, 23434)"
      ]
     },
     "execution_count": 4,
     "metadata": {},
     "output_type": "execute_result"
    }
   ],
   "source": [
    "skm_repair.shape"
   ]
  },
  {
   "cell_type": "code",
   "execution_count": 5,
   "metadata": {},
   "outputs": [
    {
     "data": {
      "text/html": [
       "<div>\n",
       "<style scoped>\n",
       "    .dataframe tbody tr th:only-of-type {\n",
       "        vertical-align: middle;\n",
       "    }\n",
       "\n",
       "    .dataframe tbody tr th {\n",
       "        vertical-align: top;\n",
       "    }\n",
       "\n",
       "    .dataframe thead th {\n",
       "        text-align: right;\n",
       "    }\n",
       "</style>\n",
       "<table border=\"1\" class=\"dataframe\">\n",
       "  <thead>\n",
       "    <tr style=\"text-align: right;\">\n",
       "      <th></th>\n",
       "      <th>gene_ids-mus_SNuc7444586-Cells</th>\n",
       "      <th>feature_types-mus_SNuc7444586-Cells</th>\n",
       "      <th>gene_ids-mus_SNuc7468112-Cells</th>\n",
       "      <th>feature_types-mus_SNuc7468112-Cells</th>\n",
       "      <th>gene_ids-mus_SNuc7511880-Cells</th>\n",
       "      <th>feature_types-mus_SNuc7511880-Cells</th>\n",
       "      <th>gene_ids-5386STDY7600838-Cells</th>\n",
       "      <th>feature_types-5386STDY7600838-Cells</th>\n",
       "      <th>gene_ids-5386STDY7645353-Cells</th>\n",
       "      <th>feature_types-5386STDY7645353-Cells</th>\n",
       "      <th>...</th>\n",
       "      <th>feature_types-mus_SNuc7444585-Nuclei</th>\n",
       "      <th>gene_ids-mus_SNuc7468111-Nuclei</th>\n",
       "      <th>feature_types-mus_SNuc7468111-Nuclei</th>\n",
       "      <th>gene_ids-mus_SNuc7511879-Nuclei</th>\n",
       "      <th>feature_types-mus_SNuc7511879-Nuclei</th>\n",
       "      <th>gene_ids-5386STDY7600836-Nuclei</th>\n",
       "      <th>feature_types-5386STDY7600836-Nuclei</th>\n",
       "      <th>gene_ids-5386STDY7645355-Nuclei</th>\n",
       "      <th>feature_types-5386STDY7645355-Nuclei</th>\n",
       "      <th>n_cells-Nuclei</th>\n",
       "    </tr>\n",
       "    <tr>\n",
       "      <th>index</th>\n",
       "      <th></th>\n",
       "      <th></th>\n",
       "      <th></th>\n",
       "      <th></th>\n",
       "      <th></th>\n",
       "      <th></th>\n",
       "      <th></th>\n",
       "      <th></th>\n",
       "      <th></th>\n",
       "      <th></th>\n",
       "      <th></th>\n",
       "      <th></th>\n",
       "      <th></th>\n",
       "      <th></th>\n",
       "      <th></th>\n",
       "      <th></th>\n",
       "      <th></th>\n",
       "      <th></th>\n",
       "      <th></th>\n",
       "      <th></th>\n",
       "      <th></th>\n",
       "    </tr>\n",
       "  </thead>\n",
       "  <tbody>\n",
       "    <tr>\n",
       "      <th>AL627309.1</th>\n",
       "      <td>ENSG00000238009</td>\n",
       "      <td>Gene Expression</td>\n",
       "      <td>ENSG00000238009</td>\n",
       "      <td>Gene Expression</td>\n",
       "      <td>ENSG00000238009</td>\n",
       "      <td>Gene Expression</td>\n",
       "      <td>ENSG00000238009</td>\n",
       "      <td>Gene Expression</td>\n",
       "      <td>ENSG00000238009</td>\n",
       "      <td>Gene Expression</td>\n",
       "      <td>...</td>\n",
       "      <td>Gene Expression</td>\n",
       "      <td>ENSG00000238009</td>\n",
       "      <td>Gene Expression</td>\n",
       "      <td>ENSG00000238009</td>\n",
       "      <td>Gene Expression</td>\n",
       "      <td>ENSG00000238009</td>\n",
       "      <td>Gene Expression</td>\n",
       "      <td>ENSG00000238009</td>\n",
       "      <td>Gene Expression</td>\n",
       "      <td>19.0</td>\n",
       "    </tr>\n",
       "    <tr>\n",
       "      <th>AL669831.5</th>\n",
       "      <td>ENSG00000237491</td>\n",
       "      <td>Gene Expression</td>\n",
       "      <td>ENSG00000237491</td>\n",
       "      <td>Gene Expression</td>\n",
       "      <td>ENSG00000237491</td>\n",
       "      <td>Gene Expression</td>\n",
       "      <td>ENSG00000237491</td>\n",
       "      <td>Gene Expression</td>\n",
       "      <td>ENSG00000237491</td>\n",
       "      <td>Gene Expression</td>\n",
       "      <td>...</td>\n",
       "      <td>Gene Expression</td>\n",
       "      <td>ENSG00000237491</td>\n",
       "      <td>Gene Expression</td>\n",
       "      <td>ENSG00000237491</td>\n",
       "      <td>Gene Expression</td>\n",
       "      <td>ENSG00000237491</td>\n",
       "      <td>Gene Expression</td>\n",
       "      <td>ENSG00000237491</td>\n",
       "      <td>Gene Expression</td>\n",
       "      <td>406.0</td>\n",
       "    </tr>\n",
       "    <tr>\n",
       "      <th>FAM87B</th>\n",
       "      <td>ENSG00000177757</td>\n",
       "      <td>Gene Expression</td>\n",
       "      <td>ENSG00000177757</td>\n",
       "      <td>Gene Expression</td>\n",
       "      <td>ENSG00000177757</td>\n",
       "      <td>Gene Expression</td>\n",
       "      <td>ENSG00000177757</td>\n",
       "      <td>Gene Expression</td>\n",
       "      <td>ENSG00000177757</td>\n",
       "      <td>Gene Expression</td>\n",
       "      <td>...</td>\n",
       "      <td>Gene Expression</td>\n",
       "      <td>ENSG00000177757</td>\n",
       "      <td>Gene Expression</td>\n",
       "      <td>ENSG00000177757</td>\n",
       "      <td>Gene Expression</td>\n",
       "      <td>ENSG00000177757</td>\n",
       "      <td>Gene Expression</td>\n",
       "      <td>ENSG00000177757</td>\n",
       "      <td>Gene Expression</td>\n",
       "      <td>4.0</td>\n",
       "    </tr>\n",
       "    <tr>\n",
       "      <th>LINC00115</th>\n",
       "      <td>ENSG00000225880</td>\n",
       "      <td>Gene Expression</td>\n",
       "      <td>ENSG00000225880</td>\n",
       "      <td>Gene Expression</td>\n",
       "      <td>ENSG00000225880</td>\n",
       "      <td>Gene Expression</td>\n",
       "      <td>ENSG00000225880</td>\n",
       "      <td>Gene Expression</td>\n",
       "      <td>ENSG00000225880</td>\n",
       "      <td>Gene Expression</td>\n",
       "      <td>...</td>\n",
       "      <td>Gene Expression</td>\n",
       "      <td>ENSG00000225880</td>\n",
       "      <td>Gene Expression</td>\n",
       "      <td>ENSG00000225880</td>\n",
       "      <td>Gene Expression</td>\n",
       "      <td>ENSG00000225880</td>\n",
       "      <td>Gene Expression</td>\n",
       "      <td>ENSG00000225880</td>\n",
       "      <td>Gene Expression</td>\n",
       "      <td>283.0</td>\n",
       "    </tr>\n",
       "    <tr>\n",
       "      <th>FAM41C</th>\n",
       "      <td>ENSG00000230368</td>\n",
       "      <td>Gene Expression</td>\n",
       "      <td>ENSG00000230368</td>\n",
       "      <td>Gene Expression</td>\n",
       "      <td>ENSG00000230368</td>\n",
       "      <td>Gene Expression</td>\n",
       "      <td>ENSG00000230368</td>\n",
       "      <td>Gene Expression</td>\n",
       "      <td>ENSG00000230368</td>\n",
       "      <td>Gene Expression</td>\n",
       "      <td>...</td>\n",
       "      <td>Gene Expression</td>\n",
       "      <td>ENSG00000230368</td>\n",
       "      <td>Gene Expression</td>\n",
       "      <td>ENSG00000230368</td>\n",
       "      <td>Gene Expression</td>\n",
       "      <td>ENSG00000230368</td>\n",
       "      <td>Gene Expression</td>\n",
       "      <td>ENSG00000230368</td>\n",
       "      <td>Gene Expression</td>\n",
       "      <td>58.0</td>\n",
       "    </tr>\n",
       "  </tbody>\n",
       "</table>\n",
       "<p>5 rows × 24 columns</p>\n",
       "</div>"
      ],
      "text/plain": [
       "           gene_ids-mus_SNuc7444586-Cells feature_types-mus_SNuc7444586-Cells  \\\n",
       "index                                                                           \n",
       "AL627309.1                ENSG00000238009                     Gene Expression   \n",
       "AL669831.5                ENSG00000237491                     Gene Expression   \n",
       "FAM87B                    ENSG00000177757                     Gene Expression   \n",
       "LINC00115                 ENSG00000225880                     Gene Expression   \n",
       "FAM41C                    ENSG00000230368                     Gene Expression   \n",
       "\n",
       "           gene_ids-mus_SNuc7468112-Cells feature_types-mus_SNuc7468112-Cells  \\\n",
       "index                                                                           \n",
       "AL627309.1                ENSG00000238009                     Gene Expression   \n",
       "AL669831.5                ENSG00000237491                     Gene Expression   \n",
       "FAM87B                    ENSG00000177757                     Gene Expression   \n",
       "LINC00115                 ENSG00000225880                     Gene Expression   \n",
       "FAM41C                    ENSG00000230368                     Gene Expression   \n",
       "\n",
       "           gene_ids-mus_SNuc7511880-Cells feature_types-mus_SNuc7511880-Cells  \\\n",
       "index                                                                           \n",
       "AL627309.1                ENSG00000238009                     Gene Expression   \n",
       "AL669831.5                ENSG00000237491                     Gene Expression   \n",
       "FAM87B                    ENSG00000177757                     Gene Expression   \n",
       "LINC00115                 ENSG00000225880                     Gene Expression   \n",
       "FAM41C                    ENSG00000230368                     Gene Expression   \n",
       "\n",
       "           gene_ids-5386STDY7600838-Cells feature_types-5386STDY7600838-Cells  \\\n",
       "index                                                                           \n",
       "AL627309.1                ENSG00000238009                     Gene Expression   \n",
       "AL669831.5                ENSG00000237491                     Gene Expression   \n",
       "FAM87B                    ENSG00000177757                     Gene Expression   \n",
       "LINC00115                 ENSG00000225880                     Gene Expression   \n",
       "FAM41C                    ENSG00000230368                     Gene Expression   \n",
       "\n",
       "           gene_ids-5386STDY7645353-Cells feature_types-5386STDY7645353-Cells  \\\n",
       "index                                                                           \n",
       "AL627309.1                ENSG00000238009                     Gene Expression   \n",
       "AL669831.5                ENSG00000237491                     Gene Expression   \n",
       "FAM87B                    ENSG00000177757                     Gene Expression   \n",
       "LINC00115                 ENSG00000225880                     Gene Expression   \n",
       "FAM41C                    ENSG00000230368                     Gene Expression   \n",
       "\n",
       "                ...       feature_types-mus_SNuc7444585-Nuclei  \\\n",
       "index           ...                                              \n",
       "AL627309.1      ...                            Gene Expression   \n",
       "AL669831.5      ...                            Gene Expression   \n",
       "FAM87B          ...                            Gene Expression   \n",
       "LINC00115       ...                            Gene Expression   \n",
       "FAM41C          ...                            Gene Expression   \n",
       "\n",
       "           gene_ids-mus_SNuc7468111-Nuclei  \\\n",
       "index                                        \n",
       "AL627309.1                 ENSG00000238009   \n",
       "AL669831.5                 ENSG00000237491   \n",
       "FAM87B                     ENSG00000177757   \n",
       "LINC00115                  ENSG00000225880   \n",
       "FAM41C                     ENSG00000230368   \n",
       "\n",
       "            feature_types-mus_SNuc7468111-Nuclei  \\\n",
       "index                                              \n",
       "AL627309.1                       Gene Expression   \n",
       "AL669831.5                       Gene Expression   \n",
       "FAM87B                           Gene Expression   \n",
       "LINC00115                        Gene Expression   \n",
       "FAM41C                           Gene Expression   \n",
       "\n",
       "           gene_ids-mus_SNuc7511879-Nuclei  \\\n",
       "index                                        \n",
       "AL627309.1                 ENSG00000238009   \n",
       "AL669831.5                 ENSG00000237491   \n",
       "FAM87B                     ENSG00000177757   \n",
       "LINC00115                  ENSG00000225880   \n",
       "FAM41C                     ENSG00000230368   \n",
       "\n",
       "           feature_types-mus_SNuc7511879-Nuclei  \\\n",
       "index                                             \n",
       "AL627309.1                      Gene Expression   \n",
       "AL669831.5                      Gene Expression   \n",
       "FAM87B                          Gene Expression   \n",
       "LINC00115                       Gene Expression   \n",
       "FAM41C                          Gene Expression   \n",
       "\n",
       "           gene_ids-5386STDY7600836-Nuclei  \\\n",
       "index                                        \n",
       "AL627309.1                 ENSG00000238009   \n",
       "AL669831.5                 ENSG00000237491   \n",
       "FAM87B                     ENSG00000177757   \n",
       "LINC00115                  ENSG00000225880   \n",
       "FAM41C                     ENSG00000230368   \n",
       "\n",
       "           feature_types-5386STDY7600836-Nuclei  \\\n",
       "index                                             \n",
       "AL627309.1                      Gene Expression   \n",
       "AL669831.5                      Gene Expression   \n",
       "FAM87B                          Gene Expression   \n",
       "LINC00115                       Gene Expression   \n",
       "FAM41C                          Gene Expression   \n",
       "\n",
       "           gene_ids-5386STDY7645355-Nuclei  \\\n",
       "index                                        \n",
       "AL627309.1                 ENSG00000238009   \n",
       "AL669831.5                 ENSG00000237491   \n",
       "FAM87B                     ENSG00000177757   \n",
       "LINC00115                  ENSG00000225880   \n",
       "FAM41C                     ENSG00000230368   \n",
       "\n",
       "           feature_types-5386STDY7645355-Nuclei n_cells-Nuclei  \n",
       "index                                                           \n",
       "AL627309.1                      Gene Expression           19.0  \n",
       "AL669831.5                      Gene Expression          406.0  \n",
       "FAM87B                          Gene Expression            4.0  \n",
       "LINC00115                       Gene Expression          283.0  \n",
       "FAM41C                          Gene Expression           58.0  \n",
       "\n",
       "[5 rows x 24 columns]"
      ]
     },
     "execution_count": 5,
     "metadata": {},
     "output_type": "execute_result"
    }
   ],
   "source": [
    "skm_repair.var.head()"
   ]
  },
  {
   "cell_type": "code",
   "execution_count": 6,
   "metadata": {},
   "outputs": [
    {
     "data": {
      "text/plain": [
       "(58132, 23434)"
      ]
     },
     "execution_count": 6,
     "metadata": {},
     "output_type": "execute_result"
    }
   ],
   "source": [
    "skm_repair.X.shape"
   ]
  },
  {
   "cell_type": "code",
   "execution_count": 7,
   "metadata": {},
   "outputs": [
    {
     "data": {
      "text/plain": [
       "(58132, 23434)"
      ]
     },
     "execution_count": 7,
     "metadata": {},
     "output_type": "execute_result"
    }
   ],
   "source": [
    "skm_repair.shape"
   ]
  },
  {
   "cell_type": "code",
   "execution_count": 8,
   "metadata": {},
   "outputs": [
    {
     "data": {
      "text/plain": [
       "Index(['AAACCTGCAAAGCGGT-1-mus_SNuc7444586-Cells',\n",
       "       'AAACCTGTCCGGGTGT-1-mus_SNuc7444586-Cells',\n",
       "       'AAACGGGAGTGGTAAT-1-mus_SNuc7444586-Cells',\n",
       "       'AAACGGGGTACTTGAC-1-mus_SNuc7444586-Cells',\n",
       "       'AAACGGGGTCTACCTC-1-mus_SNuc7444586-Cells'],\n",
       "      dtype='object', name='index')"
      ]
     },
     "execution_count": 8,
     "metadata": {},
     "output_type": "execute_result"
    }
   ],
   "source": [
    "skm_repair.obs_names[:5]"
   ]
  },
  {
   "cell_type": "code",
   "execution_count": 9,
   "metadata": {},
   "outputs": [
    {
     "data": {
      "text/plain": [
       "Index(['AL627309.1', 'AL669831.5', 'FAM87B', 'LINC00115', 'FAM41C',\n",
       "       'AL645608.3', 'AL645608.1', 'SAMD11', 'NOC2L', 'KLHL17',\n",
       "       ...\n",
       "       'F11', 'AC138811.1', 'LRRC2-AS1', 'AC100771.2', 'AC004039.1',\n",
       "       'AC012404.2', 'C5orf46', 'AC025917.1', 'AP000462.3', 'LHFPL5'],\n",
       "      dtype='object', name='index', length=23434)"
      ]
     },
     "execution_count": 9,
     "metadata": {},
     "output_type": "execute_result"
    }
   ],
   "source": [
    "skm_repair.var.index"
   ]
  },
  {
   "cell_type": "markdown",
   "metadata": {},
   "source": [
    "### Export subset object "
   ]
  },
  {
   "cell_type": "code",
   "execution_count": 10,
   "metadata": {},
   "outputs": [],
   "source": [
    "holder = skm_repair.copy()"
   ]
  },
  {
   "cell_type": "code",
   "execution_count": 11,
   "metadata": {},
   "outputs": [],
   "source": [
    "holder.write('/home/jovyan/experiments/3-cellphonedb/repair/HCA_SKM_Repair_ctl200203.h5ad')"
   ]
  },
  {
   "cell_type": "code",
   "execution_count": 15,
   "metadata": {},
   "outputs": [],
   "source": [
    "annot_key = 'cell_states'\n",
    "gene_names = holder.var.index\n",
    "\n",
    "counts = pd.DataFrame(holder.X.T.todense(), index = gene_names, columns = holder.obs_names)\n",
    "meta = pd.DataFrame(holder.obs[annot_key])\n",
    "counts.to_csv('/home/jovyan/experiments/3-cellphonedb/skm-repair/counts.tsv', sep = '\\t')\n",
    "meta.to_csv('/home/jovyan/experiments/3-cellphonedb/skm-repair/meta.tsv', sep = '\\t')"
   ]
  },
  {
   "cell_type": "code",
   "execution_count": null,
   "metadata": {},
   "outputs": [],
   "source": []
  }
 ],
 "metadata": {
  "kernelspec": {
   "display_name": "Python 3",
   "language": "python",
   "name": "python3"
  },
  "language_info": {
   "codemirror_mode": {
    "name": "ipython",
    "version": 3
   },
   "file_extension": ".py",
   "mimetype": "text/x-python",
   "name": "python",
   "nbconvert_exporter": "python",
   "pygments_lexer": "ipython3",
   "version": "3.7.6"
  }
 },
 "nbformat": 4,
 "nbformat_minor": 4
}
