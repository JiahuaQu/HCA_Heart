{
 "cells": [
  {
   "cell_type": "code",
   "execution_count": null,
   "metadata": {},
   "outputs": [],
   "source": [
    "import numpy as np\n",
    "import pandas as pd\n",
    "import scanpy as sc\n",
    "sc.settings.verbosity = 3             # verbosity: errors (0), warnings (1), info (2), hints (3)\n",
    "sc.logging.print_versions()\n",
    "sc.settings.set_figure_params(dpi=80)\n"
   ]
  },
  {
   "cell_type": "code",
   "execution_count": null,
   "metadata": {},
   "outputs": [],
   "source": [
    "import sys\n",
    "sys.executable\n",
    "sys.path"
   ]
  },
  {
   "cell_type": "markdown",
   "metadata": {},
   "source": [
    "Here we need a quick work around as the gwas ready object does not have the cell_type annotation, we export it from the processed object with the highly variable genes"
   ]
  },
  {
   "cell_type": "code",
   "execution_count": null,
   "metadata": {},
   "outputs": [],
   "source": [
    "adata = sc.read_h5ad(\"../data/current/annotated_expression/hca_heart_global_ctl200606_GWAS_RAW.h5ad\")"
   ]
  },
  {
   "cell_type": "code",
   "execution_count": null,
   "metadata": {},
   "outputs": [],
   "source": [
    "adata.shape"
   ]
  },
  {
   "cell_type": "code",
   "execution_count": null,
   "metadata": {},
   "outputs": [],
   "source": [
    "adata.obs.head()"
   ]
  },
  {
   "cell_type": "code",
   "execution_count": null,
   "metadata": {},
   "outputs": [],
   "source": [
    "adata.obs['cell_states'].cat.categories"
   ]
  },
  {
   "cell_type": "markdown",
   "metadata": {},
   "source": [
    "We have an updated meta data table which should be used instead of the obs"
   ]
  },
  {
   "cell_type": "code",
   "execution_count": null,
   "metadata": {},
   "outputs": [],
   "source": [
    "meta = pd.read_csv(\"../data/current/annotated_expression/hca_heart_global_ctl200601_metadata.csv\", index_col=0)"
   ]
  },
  {
   "cell_type": "code",
   "execution_count": null,
   "metadata": {},
   "outputs": [],
   "source": [
    "meta.head()"
   ]
  },
  {
   "cell_type": "code",
   "execution_count": null,
   "metadata": {},
   "outputs": [],
   "source": [
    "np.shape(meta)"
   ]
  },
  {
   "cell_type": "code",
   "execution_count": null,
   "metadata": {},
   "outputs": [],
   "source": [
    "sc.pp.normalize_total(adata)\n",
    "sc.pp.log1p(adata)"
   ]
  },
  {
   "cell_type": "code",
   "execution_count": null,
   "metadata": {},
   "outputs": [],
   "source": [
    "np.shape(adata)"
   ]
  },
  {
   "cell_type": "markdown",
   "metadata": {},
   "source": [
    "## Use nuclei only to avoid batcheffects\n",
    "Check which cell sources are currently present"
   ]
  },
  {
   "cell_type": "code",
   "execution_count": null,
   "metadata": {},
   "outputs": [],
   "source": [
    "adata.obs.cell_source.value_counts()"
   ]
  },
  {
   "cell_type": "code",
   "execution_count": null,
   "metadata": {},
   "outputs": [],
   "source": [
    "source = pd.Series(adata.obs.cell_source)\n",
    "selected_cells = source.isin(['Sanger-Nuclei', 'Harvard-Nuclei'])\n",
    "filtered = adata[selected_cells]"
   ]
  },
  {
   "cell_type": "code",
   "execution_count": null,
   "metadata": {},
   "outputs": [],
   "source": [
    "np.shape(filtered)"
   ]
  },
  {
   "cell_type": "markdown",
   "metadata": {},
   "source": [
    "Check out the cell annotations"
   ]
  },
  {
   "cell_type": "code",
   "execution_count": null,
   "metadata": {},
   "outputs": [],
   "source": [
    "ct_count = filtered.obs.cell_type.value_counts()\n",
    "ct_count"
   ]
  },
  {
   "cell_type": "markdown",
   "metadata": {},
   "source": [
    "Also checkout the cluster annotations"
   ]
  },
  {
   "cell_type": "code",
   "execution_count": null,
   "metadata": {},
   "outputs": [],
   "source": [
    "region_count = filtered.obs.region.value_counts()\n",
    "region_count"
   ]
  },
  {
   "cell_type": "code",
   "execution_count": null,
   "metadata": {},
   "outputs": [],
   "source": [
    "pd.crosstab(filtered.obs.region, filtered.obs.cell_states)"
   ]
  },
  {
   "cell_type": "markdown",
   "metadata": {},
   "source": [
    "For magma we need to compute cell type averages (log counts) and the overall expression average. We will do this per anatomical region and for all regions at the same time on (cell type x region) annotations."
   ]
  },
  {
   "cell_type": "code",
   "execution_count": null,
   "metadata": {},
   "outputs": [],
   "source": [
    "filtered.var.head()"
   ]
  },
  {
   "cell_type": "code",
   "execution_count": null,
   "metadata": {},
   "outputs": [],
   "source": [
    "## magma uses entrez ids so we need to check the id mapping (based on bioconductor annotations)\n",
    "symbol2entrez = pd.read_table(\"../results/current/magma/symbol2entrez.txt\", index_col=\"ENTREZID\")\n",
    "symbol2entrez.SYMBOL.nunique()"
   ]
  },
  {
   "cell_type": "code",
   "execution_count": null,
   "metadata": {},
   "outputs": [],
   "source": [
    "# filtered.var.index.nunique()"
   ]
  },
  {
   "cell_type": "code",
   "execution_count": null,
   "metadata": {},
   "outputs": [],
   "source": [
    "# pd.Series(filtered.var.index.isin(symbol2entrez.SYMBOL)).value_counts()"
   ]
  },
  {
   "cell_type": "code",
   "execution_count": null,
   "metadata": {},
   "outputs": [],
   "source": [
    "# missing = list(set(filtered.var.index) - set(symbol2entrez.SYMBOL))\n",
    "# missing"
   ]
  },
  {
   "cell_type": "code",
   "execution_count": null,
   "metadata": {},
   "outputs": [],
   "source": [
    "## try with aliases instead\n",
    "# alias2entrez = pd.read_table(\"../results/current/magma/alias2entrez.txt\", index_col=\"ENTREZID\")\n",
    "# pd.Series(filtered.var.index.isin(alias2entrez.ALIAS)).value_counts()\n"
   ]
  },
  {
   "cell_type": "code",
   "execution_count": null,
   "metadata": {},
   "outputs": [],
   "source": [
    "# missing = list(set(filtered.var.index) - set(alias2entrez.ALIAS))\n",
    "# missing"
   ]
  },
  {
   "cell_type": "markdown",
   "metadata": {},
   "source": [
    "It seems that a lot of non coding RNAs are selected and they do not have entrez gene ids, so we will ignore them for now\n",
    "\n",
    "## Stick to gene symbols\n",
    "There was a problem with the aliases: it leads to duplicated entrez ids, which break the downstream processing\n",
    "\n",
    "## Create expression estimates per region and cell type"
   ]
  },
  {
   "cell_type": "code",
   "execution_count": null,
   "metadata": {},
   "outputs": [],
   "source": [
    "celltypes = ct_count.axes[0].tolist()\n",
    "cn1 = celltypes * len(region_count.axes[0].tolist())\n",
    "cn2 = np.repeat(region_count.axes[0].tolist(), len(celltypes))\n",
    "colnames = [\"%s_%s\" % (cn2[i], cn1[i]) for i in range(len(cn1))]\n",
    "colnames.append(\"Average\")\n",
    "celltypes.append(\"Average\")\n",
    "\n",
    "avg = pd.DataFrame(index=filtered.var.index, columns=colnames)\n",
    "# print(np.shape(avg))\n",
    "\n",
    "for region in region_count.axes[0].tolist():\n",
    "    region_expr = filtered[filtered.obs.region == region]\n",
    "    # print(np.shape(region_expr))\n",
    "    per_region = pd.DataFrame(index=region_expr.var.index, columns=celltypes)\n",
    "    \n",
    "    ## compute per cell type per region average expression\n",
    "    for ct in ct_count.axes[0].tolist():\n",
    "        cn = \"%s_%s\" % (region, ct)\n",
    "        print(cn)\n",
    "        # print(pd.Series(region_expr.obs.cell_type == ct).value_counts())\n",
    "        tmp = region_expr[region_expr.obs.cell_type == ct]\n",
    "        # print(np.shape(tmp.X))\n",
    "        ct_mean = tmp.X.mean(axis=0)\n",
    "        # print(np.shape(ct_mean))\n",
    "        # ct_mean = region_expr.X[region_expr.obs.cell_type == ct].mean(axis=0)\n",
    "        avg[cn] = np.transpose(ct_mean)\n",
    "        per_region[ct] = np.transpose(ct_mean)\n",
    "    \n",
    "    ## comput per region average expression\n",
    "    all_mean = region_expr.X.mean(axis=0)\n",
    "    per_region[\"Average\"] = np.transpose(all_mean)\n",
    "    fname = \"../results/current/magma/expr_per_region_%s.txt\" % region\n",
    "    \n",
    "    ## replace gene symbols with entrez ids\n",
    "    per_region = symbol2entrez.merge(per_region, left_on=\"SYMBOL\", right_index=True)\n",
    "    per_region = per_region.drop([\"SYMBOL\"], axis=1)\n",
    "    per_region.to_csv(fname, sep=\"\\t\", index_label=\"GENE\")\n",
    "\n",
    "## compute overall average expression\n",
    "avg[\"Average\"] = np.transpose(filtered.X.mean(axis=0))\n",
    "## replace gene symbols with entrez ids\n",
    "avg = symbol2entrez.merge(avg, left_on=\"SYMBOL\", right_index=True)\n",
    "avg = avg.drop([\"SYMBOL\"], axis=1)\n",
    "avg.to_csv(\"../results/current/magma/expr_all.txt\", sep=\"\\t\", index_label=\"GENE\")"
   ]
  },
  {
   "cell_type": "code",
   "execution_count": null,
   "metadata": {},
   "outputs": [],
   "source": [
    "np.shape(avg)\n",
    "np.shape(filtered)"
   ]
  },
  {
   "cell_type": "markdown",
   "metadata": {},
   "source": [
    "## Create a similar matrix also across all regions"
   ]
  },
  {
   "cell_type": "code",
   "execution_count": null,
   "metadata": {},
   "outputs": [],
   "source": [
    "celltypes = ct_count.axes[0].tolist()\n",
    "avg_ct = pd.DataFrame(index=filtered.var.index, columns=celltypes)\n",
    "    \n",
    "for ct in ct_count.axes[0].tolist():\n",
    "    print(ct)\n",
    "    ct_mean = filtered[filtered.obs.cell_type == ct].X.mean(axis=0)\n",
    "    avg_ct[ct] = np.transpose(ct_mean)\n",
    "\n",
    "## compute overall average expression\n",
    "avg_ct[\"Average\"] = np.transpose(filtered.X.mean(axis=0))\n",
    "## replace gene symbols with entrez ids\n",
    "avg_ct = symbol2entrez.merge(avg_ct, left_on=\"SYMBOL\", right_index=True)\n",
    "avg_ct = avg_ct.drop([\"SYMBOL\"], axis=1)\n",
    "avg_ct.to_csv(\"../results/current/magma/hvg_expr_crossregions_all.txt\", sep=\"\\t\", index_label=\"GENE\")"
   ]
  },
  {
   "cell_type": "code",
   "execution_count": null,
   "metadata": {},
   "outputs": [],
   "source": []
  },
  {
   "cell_type": "code",
   "execution_count": null,
   "metadata": {},
   "outputs": [],
   "source": [
    "celltypes = ct_count.axes[0].tolist()\n",
    "avg_ct = pd.DataFrame(index=filtered.var.index, columns=celltypes)\n",
    "    \n",
    "for ct in ct_count.axes[0].tolist():\n",
    "    print(ct)\n",
    "    ct_mean = np.log(filtered[filtered.obs.cell_type == ct].raw.X.todense() + 1.0).mean(axis=0)\n",
    "    avg_ct[ct] = np.transpose(ct_mean)\n",
    "\n",
    "## compute overall average expression\n",
    "avg_ct[\"Average\"] = np.transpose(np.log(filtered.raw.X.todense() + 1.0).mean(axis=0))\n",
    "## replace gene symbols with entrez ids\n",
    "avg_ct = symbol2entrez.merge(avg_ct, left_on=\"SYMBOL\", right_index=True)\n",
    "avg_ct = avg_ct.drop([\"SYMBOL\"], axis=1)\n",
    "avg_ct.to_csv(\"../results/current/magma/expr_crossregions_all.txt\", sep=\"\\t\", index_label=\"GENE\")"
   ]
  },
  {
   "cell_type": "markdown",
   "metadata": {},
   "source": [
    "## Use cell states or clusters as annotations\n"
   ]
  },
  {
   "cell_type": "code",
   "execution_count": null,
   "metadata": {},
   "outputs": [],
   "source": [
    "#cs_count = filtered.obs.cell_states.value_counts()\n",
    "#pd.crosstab(filtered.obs.cell_states, filtered.obs.cell_type)"
   ]
  },
  {
   "cell_type": "code",
   "execution_count": null,
   "metadata": {},
   "outputs": [],
   "source": [
    "pd.crosstab(filtered.obs.cell_states, filtered.obs.cell_states)"
   ]
  },
  {
   "cell_type": "code",
   "execution_count": null,
   "metadata": {},
   "outputs": [],
   "source": [
    "cl_count = filtered.obs.cell_states.value_counts()\n",
    "clusters = cl_count.axes[0].tolist()\n",
    "avg_cl = pd.DataFrame(index=filtered.var.index, columns=clusters)\n",
    "    \n",
    "for cl in cl_count.axes[0].tolist():\n",
    "    print(cl)\n",
    "    cl_mean = filtered[filtered.obs.cell_states == cl].X.mean(axis=0)\n",
    "    avg_cl[cl] = np.transpose(cl_mean)\n",
    "\n",
    "## compute overall average expression\n",
    "avg_cl[\"Average\"] = np.transpose(filtered.X.mean(axis=0))\n",
    "## replace gene symbols with entrez ids\n",
    "avg_cl = symbol2entrez.merge(avg_cl, left_on=\"SYMBOL\", right_index=True)\n",
    "avg_cl = avg_cl.drop([\"SYMBOL\"], axis=1)\n",
    "avg_cl.to_csv(\"../results/current/magma/expr_crossregions_cell_states.txt\", sep=\"\\t\", index_label=\"GENE\")"
   ]
  },
  {
   "cell_type": "markdown",
   "metadata": {},
   "source": [
    "# Gene expression from the merged subclustering\n",
    "Here we use a merged annotation table that was extracted from each of the subclustering objects (expression_for_magma_subclusters.ipynb) and subsequently merged (magma.Rmd).\n",
    "\n",
    "First we try to merge this with the obs table in the adata object."
   ]
  },
  {
   "cell_type": "code",
   "execution_count": null,
   "metadata": {},
   "outputs": [],
   "source": [
    "merged_ann = pd.read_table(\"../data/current/annotated_expression/merged_metadata.txt\", index_col=\"index\")\n",
    "merged_ann.head()"
   ]
  },
  {
   "cell_type": "code",
   "execution_count": null,
   "metadata": {},
   "outputs": [],
   "source": [
    "adata.obs.head()"
   ]
  },
  {
   "cell_type": "code",
   "execution_count": null,
   "metadata": {},
   "outputs": [],
   "source": [
    "np.shape(adata)"
   ]
  },
  {
   "cell_type": "code",
   "execution_count": null,
   "metadata": {},
   "outputs": [],
   "source": [
    "merged = adata.obs.copy()\n",
    "merged = merged.merge(merged_ann, how=\"left\", left_index=True, right_index=True)\n",
    "np.shape(merged)"
   ]
  },
  {
   "cell_type": "code",
   "execution_count": null,
   "metadata": {},
   "outputs": [],
   "source": [
    "pd.Series(adata.obs.index.isin(merged_ann.index)).value_counts()"
   ]
  },
  {
   "cell_type": "markdown",
   "metadata": {},
   "source": [
    "We are missing quite a few barcodes, so we need to check where this comes from!"
   ]
  },
  {
   "cell_type": "code",
   "execution_count": null,
   "metadata": {},
   "outputs": [],
   "source": [
    "missing_barcodes = list(set(merged_ann.index) - set(adata.obs.index))\n",
    "missing_barcodes[0:10]"
   ]
  },
  {
   "cell_type": "code",
   "execution_count": null,
   "metadata": {},
   "outputs": [],
   "source": [
    "new_index_subcl = []\n",
    "for i in merged_ann.index:\n",
    "    new_index_subcl.append((\"-\").join(i.split(\"-\")[:5]))\n",
    "pd.Series(new_index_subcl).value_counts().value_counts()"
   ]
  },
  {
   "cell_type": "code",
   "execution_count": null,
   "metadata": {},
   "outputs": [],
   "source": [
    "pd.Series(merged_ann.index.isin(adata.obs.index)).value_counts()"
   ]
  },
  {
   "cell_type": "code",
   "execution_count": null,
   "metadata": {},
   "outputs": [],
   "source": [
    "missing_barcodes = list(set(adata.obs.index) - set(merged_ann.index))\n",
    "missing_barcodes[0:10]"
   ]
  },
  {
   "cell_type": "markdown",
   "metadata": {},
   "source": [
    "Try to match.. we first have a look at the suffixes used"
   ]
  },
  {
   "cell_type": "code",
   "execution_count": null,
   "metadata": {},
   "outputs": [],
   "source": [
    "suffixes_global = []\n",
    "suffixes_short_global = []\n",
    "for i in missing_barcodes:\n",
    "    suffixes_global.append((\"-\").join(i.split(\"-\")[2:]))\n",
    "    suffixes_short_global.append((\"-\").join(i.split(\"-\")[2:5]))\n",
    "pd.Series(suffixes_global).value_counts()"
   ]
  },
  {
   "cell_type": "code",
   "execution_count": null,
   "metadata": {},
   "outputs": [],
   "source": [
    "pd.Series(pd.Series(suffixes_short_global).isin(pd.Series(suffixes_short_subcl))).value_counts()"
   ]
  },
  {
   "cell_type": "markdown",
   "metadata": {},
   "source": [
    "It looks like this is doing the trick. Now we need to check if the shorter indices are still unique.."
   ]
  },
  {
   "cell_type": "code",
   "execution_count": null,
   "metadata": {},
   "outputs": [],
   "source": [
    "short_indices_subcl = []\n",
    "for i in merged_ann.index:\n",
    "    short_indices_subcl.append((\"-\").join(i.split(\"-\")[:5]))\n",
    "    \n",
    "short_indices_global = []\n",
    "for i in adata.obs.index:\n",
    "    short_indices_global.append((\"-\").join(i.split(\"-\")[:5]))\n",
    "\n",
    "pd.Series(pd.Series(short_indices_subcl).value_counts()).value_counts()"
   ]
  },
  {
   "cell_type": "markdown",
   "metadata": {},
   "source": [
    "The majority is actually not unique, so we cannot simply add this as a column to the obs data frame. Instead we check by annotation later.. \n",
    "\n",
    "To do so, we add the new short indices to the adata.obs and the merge annotation data frames."
   ]
  },
  {
   "cell_type": "code",
   "execution_count": null,
   "metadata": {},
   "outputs": [],
   "source": [
    "merged_ann = merged_ann.assign(short_index=short_indices_subcl)\n",
    "adata.obs = adata.obs.assign(short_index=short_indices_global)"
   ]
  },
  {
   "cell_type": "code",
   "execution_count": null,
   "metadata": {},
   "outputs": [],
   "source": [
    "source = pd.Series(adata.obs.cell_source)\n",
    "selected_cells = source.isin(['Sanger-Nuclei', 'Harvard-Nuclei'])\n",
    "filtered = adata[selected_cells]\n",
    "np.shape(filtered)"
   ]
  },
  {
   "cell_type": "code",
   "execution_count": null,
   "metadata": {},
   "outputs": [],
   "source": [
    "## magma uses entrez ids so we need to check the id mapping (based on bioconductor annotations)\n",
    "symbol2entrez = pd.read_table(\"../results/current/magma/symbol2entrez.txt\", index_col=\"ENTREZID\")\n",
    "symbol2entrez.SYMBOL.nunique()"
   ]
  },
  {
   "cell_type": "code",
   "execution_count": null,
   "metadata": {},
   "outputs": [],
   "source": [
    "filtered.var.index.nunique()"
   ]
  },
  {
   "cell_type": "code",
   "execution_count": null,
   "metadata": {},
   "outputs": [],
   "source": [
    "pd.Series(filtered.var.index.isin(symbol2entrez.SYMBOL)).value_counts()"
   ]
  },
  {
   "cell_type": "markdown",
   "metadata": {},
   "source": [
    "## Create gene expression matrix across all anatomical regions"
   ]
  },
  {
   "cell_type": "code",
   "execution_count": null,
   "metadata": {},
   "outputs": [],
   "source": [
    "import functools\n",
    "def reduce_concat(x, sep=\"\"):\n",
    "    return functools.reduce(lambda x, y: str(x) + sep + str(y), x)\n",
    "\n",
    "def paste(*lists, sep=\" \", collapse=None):\n",
    "    result = map(lambda x: reduce_concat(x, sep=sep), zip(*lists))\n",
    "    if collapse is not None:\n",
    "        return reduce_concat(result, sep=collapse)\n",
    "    return list(result)\n",
    "\n",
    "ann_name = pd.Series(paste(merged_ann.annotation, merged_ann.subtype, sep=\":\")).unique()\n",
    "ann_name[0:10]"
   ]
  },
  {
   "cell_type": "code",
   "execution_count": null,
   "metadata": {},
   "outputs": [],
   "source": [
    "subtypes = list(ann_name)\n",
    "subtypes.append(\"Average\")\n",
    "\n",
    "avg_st = pd.DataFrame(index=filtered.var.index, columns=subtypes)\n",
    "    \n",
    "for st in ann_name:\n",
    "    print(st)\n",
    "    annotation = str(st).split(\":\")[0]\n",
    "    subtype = str(st).split(\":\")[1]\n",
    "    print(\"annotation: %s, subtype: %s\" % (annotation, subtype))\n",
    "    selected_indices = merged_ann[(merged_ann.annotation == annotation) & (merged_ann.subtype == subtype)].short_index\n",
    "    selected_cells = filtered.obs.short_index.isin(selected_indices)\n",
    "    print(\"Number of cells: %s\" % np.sum(selected_cells))\n",
    "    if (np.sum(selected_cells) == 0):\n",
    "        continue\n",
    "    st_mean = filtered[selected_cells].X.mean(axis=0)\n",
    "    avg_st[st] = np.transpose(st_mean)\n",
    "\n",
    "## compute overall average expression\n",
    "avg_st[\"Average\"] = np.transpose(filtered.X.mean(axis=0))\n",
    "## replace gene symbols with entrez ids\n",
    "avg_st = symbol2entrez.merge(avg_st, left_on=\"SYMBOL\", right_index=True)\n",
    "avg_st = avg_st.drop([\"SYMBOL\"], axis=1)\n",
    "avg_st.to_csv(\"../results/current/magma/expr_crossregions_subtypes.txt\", sep=\"\\t\", index_label=\"GENE\")"
   ]
  },
  {
   "cell_type": "code",
   "execution_count": null,
   "metadata": {},
   "outputs": [],
   "source": [
    "np.sum(selected_cells) == 0"
   ]
  },
  {
   "cell_type": "code",
   "execution_count": null,
   "metadata": {},
   "outputs": [],
   "source": [
    "st = \"stromal:EC23*\"\n",
    "annotation = str(st).split(\":\")[0]\n",
    "subtype = str(st).split(\":\")[1]\n",
    "print(\"annotation: %s, subtype: %s\" % (annotation, subtype))\n",
    "selected_indices = merged_ann[(merged_ann.annotation == annotation) & (merged_ann.subtype == subtype)].short_index\n",
    "np.sum(filtered.obs.short_index.isin(selected_indices))"
   ]
  }
 ],
 "metadata": {
  "kernelspec": {
   "display_name": "Python 3",
   "language": "python",
   "name": "python3"
  },
  "language_info": {
   "codemirror_mode": {
    "name": "ipython",
    "version": 3
   },
   "file_extension": ".py",
   "mimetype": "text/x-python",
   "name": "python",
   "nbconvert_exporter": "python",
   "pygments_lexer": "ipython3",
   "version": "3.7.5"
  }
 },
 "nbformat": 4,
 "nbformat_minor": 2
}
