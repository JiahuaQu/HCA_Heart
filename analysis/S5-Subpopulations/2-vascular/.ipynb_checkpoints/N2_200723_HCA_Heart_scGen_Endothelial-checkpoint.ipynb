{
 "cells": [
  {
   "cell_type": "markdown",
   "metadata": {},
   "source": [
    "## scGen batch correction and analysis of Endothelial Cells\n",
    "By Monika Litvinukova <br/>\n",
    "Latest update 23.07.20"
   ]
  },
  {
   "cell_type": "markdown",
   "metadata": {},
   "source": [
    "### Import required modules"
   ]
  },
  {
   "cell_type": "code",
   "execution_count": null,
   "metadata": {},
   "outputs": [],
   "source": [
    "import scgen\n",
    "import anndata\n",
    "import numpy as np\n",
    "import scanpy as sc\n",
    "import pandas as pd\n",
    "import tensorflow as tf"
   ]
  },
  {
   "cell_type": "code",
   "execution_count": null,
   "metadata": {},
   "outputs": [],
   "source": [
    "sc.settings.verbosity = 3\n",
    "sc.logging.print_version_and_date()\n",
    "sc.settings.set_figure_params(dpi = 260, color_map = 'RdPu', dpi_save = 260, vector_friendly = True, format = 'svg')"
   ]
  },
  {
   "cell_type": "markdown",
   "metadata": {},
   "source": [
    "### Fixed function to correct batches.\n",
    "\n",
    "- This was modified for `scGen` not to jumble the `adata` index and to keep `adata.raw`.\n",
    "- Once `scGen` updates this in the new version, we can skip it."
   ]
  },
  {
   "cell_type": "code",
   "execution_count": null,
   "metadata": {},
   "outputs": [],
   "source": [
    "import os\n",
    "from random import shuffle\n",
    "\n",
    "import anndata\n",
    "import numpy as np\n",
    "import scanpy as sc\n",
    "from matplotlib import pyplot as plt\n",
    "from scipy import sparse\n",
    "from sklearn import preprocessing\n",
    "import pandas as pd\n",
    "\n",
    "import scgen\n",
    "\n",
    "\n",
    "def batch_removal_ct5(network, adata, batch_key=\"batch\", cell_label_key=\"cell_type\"):\n",
    "    \"\"\"\n",
    "        Removes batch effect of adata\n",
    "        # Parameters\n",
    "        network: `scgen VAE`\n",
    "            Variational Auto-encoder class object after training the network.\n",
    "        adata: `~anndata.AnnData`\n",
    "            Annotated data matrix. adata must have `batch_key` and `cell_label_key` which you pass to the function\n",
    "             in its obs.\n",
    "        # Returns\n",
    "            corrected: `~anndata.AnnData`\n",
    "                Annotated matrix of corrected data consisting of all cell types whether they have batch effect or not.\n",
    "        # Example\n",
    "        ```python\n",
    "        import scgen\n",
    "        import anndata\n",
    "        train = anndata.read(\"data/pancreas.h5ad\")\n",
    "        train.obs[\"cell_type\"] = train.obs[\"celltype\"].tolist()\n",
    "        network = scgen.VAEArith(x_dimension=train.shape[1], model_path=\"./models/batch\")\n",
    "        network.train(train_data=train, n_epochs=20)\n",
    "        corrected_adata = scgen.batch_removal(network, train)\n",
    "        ```\n",
    "     \"\"\"\n",
    "    if sparse.issparse(adata.X):\n",
    "        latent_all = network.to_latent(adata.X.A)\n",
    "    else:\n",
    "        latent_all = network.to_latent(adata.X)\n",
    "    adata_latent = anndata.AnnData(latent_all)\n",
    "    adata_latent.obs = adata.obs.copy(deep=True)\n",
    "    unique_cell_types = np.unique(adata_latent.obs[cell_label_key])\n",
    "    shared_ct = []\n",
    "    not_shared_ct = []\n",
    "    for cell_type in unique_cell_types:\n",
    "        temp_cell = adata_latent[adata_latent.obs[cell_label_key] == cell_type]\n",
    "        if len(np.unique(temp_cell.obs[batch_key])) < 2:\n",
    "            cell_type_ann = adata_latent[adata_latent.obs[cell_label_key] == cell_type]\n",
    "            not_shared_ct.append(cell_type_ann)\n",
    "            continue\n",
    "        temp_cell = adata_latent[adata_latent.obs[cell_label_key] == cell_type]\n",
    "        batch_list = {}\n",
    "        batch_ind = {}\n",
    "        max_batch = 0\n",
    "        max_batch_ind = \"\"\n",
    "        batches = np.unique(temp_cell.obs[batch_key])\n",
    "        for i in batches:\n",
    "            temp = temp_cell[temp_cell.obs[batch_key] == i]\n",
    "            temp_ind = temp_cell.obs[batch_key] == i\n",
    "            if max_batch < len(temp):\n",
    "                max_batch = len(temp)\n",
    "                max_batch_ind = i\n",
    "            batch_list[i] = temp\n",
    "            batch_ind[i] = temp_ind\n",
    "        max_batch_ann = batch_list[max_batch_ind]\n",
    "        for study in batch_list:\n",
    "            delta = np.average(max_batch_ann.X, axis=0) - np.average(batch_list[study].X, axis=0)\n",
    "            batch_list[study].X = delta + batch_list[study].X\n",
    "            temp_cell[batch_ind[study]].X = batch_list[study].X\n",
    "        shared_ct.append(temp_cell)\n",
    "    all_shared_ann = anndata.AnnData.concatenate(*shared_ct, batch_key=\"concat_batch\", index_unique=None)\n",
    "    if \"concat_batch\" in all_shared_ann.obs.columns:\n",
    "        del all_shared_ann.obs[\"concat_batch\"]\n",
    "    if len(not_shared_ct) < 1:\n",
    "        corrected = anndata.AnnData(network.reconstruct(all_shared_ann.X, use_data=True))\n",
    "        corrected.obs = all_shared_ann.obs.copy(deep=True)\n",
    "        corrected.var_names = adata.var_names.tolist()\n",
    "        corrected = corrected[adata.obs_names]\n",
    "        if adata.raw is not None:\n",
    "            adata_raw = anndata.AnnData(X=adata.raw.X, var=adata.raw.var)\n",
    "            adata_raw.obs_names = adata.obs_names\n",
    "            corrected.raw = adata_raw\n",
    "        return corrected\n",
    "    else:\n",
    "        all_not_shared_ann = anndata.AnnData.concatenate(*not_shared_ct, batch_key=\"concat_batch\", index_unique=None)\n",
    "        all_corrected_data = anndata.AnnData.concatenate(all_shared_ann, all_not_shared_ann, batch_key=\"concat_batch\",  index_unique=None)\n",
    "        if \"concat_batch\" in all_shared_ann.obs.columns:\n",
    "            del all_corrected_data.obs[\"concat_batch\"]\n",
    "        corrected = anndata.AnnData(network.reconstruct(all_corrected_data.X, use_data=True), )\n",
    "        corrected.obs = pd.concat([all_shared_ann.obs, all_not_shared_ann.obs])\n",
    "        corrected.var_names = adata.var_names.tolist()\n",
    "        corrected = corrected[adata.obs_names]\n",
    "        if adata.raw is not None:\n",
    "            adata_raw = anndata.AnnData(X=adata.raw.X, var=adata.raw.var)\n",
    "            adata_raw.obs_names = adata.obs_names\n",
    "            corrected.raw = adata_raw\n",
    "        return corrected"
   ]
  },
  {
   "cell_type": "markdown",
   "metadata": {},
   "source": [
    "### Read in data\n",
    "the objects have raw counts in the `adata.X` and no raw"
   ]
  },
  {
   "cell_type": "code",
   "execution_count": null,
   "metadata": {},
   "outputs": [],
   "source": [
    "ec_raw = sc.read_h5ad('/home/jovyan/mona_data/2-EC/heart_ec_merged_annotated_ml200423_RAW.h5ad')\n",
    "ec_raw.shape"
   ]
  },
  {
   "cell_type": "code",
   "execution_count": null,
   "metadata": {},
   "outputs": [],
   "source": [
    "ec_raw.obs['cell_types'].cat.categories"
   ]
  },
  {
   "cell_type": "code",
   "execution_count": null,
   "metadata": {},
   "outputs": [],
   "source": [
    "trans_from = [['EC_C0_Cap','EC_C2_art', 'EC_C3_cap','EC_D0_cap','EC_D2_cap','EC_H0_cap', 'EC_H1_cap','EC_H4_cap','EC_S0_cap','EC_S2_cap',],\n",
    "              ['EC_C1_art','EC_D1_art','EC_S4_art','Ec_H2_art'],\n",
    "              ['EC_C4_ven','EC_C6_ven','EC_D4_ven','EC_S3_ven','EC_S5_ven','Ec_H3_ven'],\n",
    "              ['EC_C8_lnEC','EC_D6_ln','EC_H9_ln'],\n",
    "              ['EC_C7_endo','EC_H5_endo','EC_S1_endo'],\n",
    "              ['EC_C5_stromal','EC_D3_stromal','EC_H6_stromal','EC_S7_stromal'],\n",
    "              ['EC_H8_fb','EC_S8_fb'],\n",
    "              ['EC_D5_cmc','EC_H7_cmc', 'EC_S9_cmc'],\n",
    "              ['EC_C10_meso','Ec_S6_meso'],\n",
    "              ['EC_C9_RBC']]\n",
    "\n",
    "trans_to = ['EC_cap', 'EC_art', 'EC_ven', 'lnEC', 'EC_endo', 'EC_stromal', 'FB_like_EC', 'CMC_like_EC', 'Meso', 'RBC']\n",
    "\n",
    "ec_raw.obs['cell_type'] = [str(i) for i in ec_raw.obs['cell_types']]\n",
    "for leiden,celltype in zip(trans_from, trans_to):\n",
    "    for leiden_from in leiden:\n",
    "        ec_raw.obs['cell_type'][ec_raw.obs['cell_type'] == leiden_from] = celltype\n",
    "ec_raw.shape"
   ]
  },
  {
   "cell_type": "code",
   "execution_count": null,
   "metadata": {},
   "outputs": [],
   "source": [
    "ec_raw.obs['cell_type'] = ec_raw.obs['cell_type'].astype('category')\n",
    "ec_raw.obs['cell_type'].cat.categories"
   ]
  },
  {
   "cell_type": "markdown",
   "metadata": {},
   "source": [
    "### Normalise and scale the dataset"
   ]
  },
  {
   "cell_type": "code",
   "execution_count": null,
   "metadata": {},
   "outputs": [],
   "source": [
    "ec = ec_raw.copy()\n",
    "sc.pp.normalize_per_cell(ec)\n",
    "sc.pp.log1p(ec)\n",
    "ec.raw = ec.copy()"
   ]
  },
  {
   "cell_type": "code",
   "execution_count": null,
   "metadata": {},
   "outputs": [],
   "source": [
    "sc.pp.scale(ec, max_value = 10)"
   ]
  },
  {
   "cell_type": "markdown",
   "metadata": {},
   "source": [
    "### Run scGEN on source"
   ]
  },
  {
   "cell_type": "markdown",
   "metadata": {},
   "source": [
    "- Prepare the object"
   ]
  },
  {
   "cell_type": "code",
   "execution_count": null,
   "metadata": {},
   "outputs": [],
   "source": [
    "hvg_scGen_batch_1 = ec.copy()\n",
    "hvg_scGen_batch_1.obs[\"batch\"] = ec.obs[\"cell_source\"].tolist()\n",
    "hvg_scGen_batch_1.obs[\"cell_type\"] = ec.obs[\"cell_type\"].tolist()"
   ]
  },
  {
   "cell_type": "markdown",
   "metadata": {},
   "source": [
    "- Prepare scGEN object"
   ]
  },
  {
   "cell_type": "code",
   "execution_count": null,
   "metadata": {},
   "outputs": [],
   "source": [
    "tf.reset_default_graph()\n",
    "network_batch_1 = scgen.VAEArith(x_dimension = hvg_scGen_batch_1.shape[1], model_path = \"/home/jovyan/mona_data/2-EC/models/\")"
   ]
  },
  {
   "cell_type": "markdown",
   "metadata": {},
   "source": [
    "- Train the model"
   ]
  },
  {
   "cell_type": "code",
   "execution_count": null,
   "metadata": {},
   "outputs": [],
   "source": [
    "network_batch_1.train(train_data = hvg_scGen_batch_1, n_epochs = 20)"
   ]
  },
  {
   "cell_type": "markdown",
   "metadata": {},
   "source": [
    "- Correct batches"
   ]
  },
  {
   "cell_type": "code",
   "execution_count": null,
   "metadata": {},
   "outputs": [],
   "source": [
    "corrected_batch_1 = batch_removal_ct5(network_batch_1, hvg_scGen_batch_1)"
   ]
  },
  {
   "cell_type": "markdown",
   "metadata": {},
   "source": [
    "- Visualise"
   ]
  },
  {
   "cell_type": "code",
   "execution_count": null,
   "metadata": {},
   "outputs": [],
   "source": [
    "sc.pp.neighbors(corrected_batch_1, random_state = 1786)\n",
    "sc.tl.umap(corrected_batch_1, min_dist = 0.3, spread = 1, random_state = 1786)\n",
    "sc.pl.umap(corrected_batch_1, color = ['cell_source',  'cell_type', 'region', 'donor', 'CDH5', 'SEMA3G', 'ACKR1', 'MSLN'], size = 1, legend_fontsize = 6, color_map = 'RdPu', frameon = False)"
   ]
  },
  {
   "cell_type": "markdown",
   "metadata": {},
   "source": [
    "### Correct for donor"
   ]
  },
  {
   "cell_type": "code",
   "execution_count": null,
   "metadata": {},
   "outputs": [],
   "source": [
    "hvg_scGen_batch_2 = corrected_batch_1.copy()\n",
    "hvg_scGen_batch_2.obs[\"batch\"] = corrected_batch_1.obs[\"donor\"].tolist()\n",
    "hvg_scGen_batch_2.obs[\"cell_type\"] = corrected_batch_1.obs[\"cell_type\"].tolist()"
   ]
  },
  {
   "cell_type": "code",
   "execution_count": null,
   "metadata": {},
   "outputs": [],
   "source": [
    "tf.reset_default_graph()\n",
    "network_batch_2 = scgen.VAEArith(x_dimension = hvg_scGen_batch_2.shape[1], model_path = \"/home/jovyan/mona_data/2-EC/models/\")"
   ]
  },
  {
   "cell_type": "code",
   "execution_count": null,
   "metadata": {},
   "outputs": [],
   "source": [
    "network_batch_2.train(train_data = hvg_scGen_batch_2, n_epochs = 20)"
   ]
  },
  {
   "cell_type": "code",
   "execution_count": null,
   "metadata": {},
   "outputs": [],
   "source": [
    "corrected_batch_2 = batch_removal_ct5(network_batch_2, hvg_scGen_batch_2)"
   ]
  },
  {
   "cell_type": "code",
   "execution_count": null,
   "metadata": {},
   "outputs": [],
   "source": [
    "sc.pp.neighbors(corrected_batch_2, random_state = 1712)\n",
    "sc.tl.umap(corrected_batch_2, min_dist = 0.3, spread = 1, random_state = 1712)\n",
    "sc.pl.umap(corrected_batch_2, color = ['cell_source', 'region', 'donor', 'n_counts', 'n_genes', 'percent_mito', 'percent_ribo', 'scrublet_score'], size = 1, legend_fontsize = 6, color_map = 'RdPu', frameon = False)"
   ]
  },
  {
   "cell_type": "code",
   "execution_count": null,
   "metadata": {},
   "outputs": [],
   "source": [
    "sc.pl.umap(corrected_batch_2, color = ['cell_source',  'cell_type', 'region', 'donor', 'CDH5', 'SEMA3G', 'ACKR1', 'MSLN'], size = 1, legend_fontsize = 6, color_map = 'RdPu', frameon = False)"
   ]
  },
  {
   "cell_type": "code",
   "execution_count": null,
   "metadata": {},
   "outputs": [],
   "source": [
    "sc.pl.umap(corrected_batch_2, color = ['cell_types', 'cell_type'], size = 1, legend_fontsize = 6, color_map = 'RdPu')"
   ]
  },
  {
   "cell_type": "code",
   "execution_count": null,
   "metadata": {},
   "outputs": [],
   "source": [
    "sc.tl.leiden(corrected_batch_2, resolution = 0.5, random_state = 1712, key_added = 'leiden05')\n",
    "sc.pl.umap(corrected_batch_2, color = ['cell_type', 'leiden05'], size = 1, legend_fontsize = 6, color_map = 'RdPu')"
   ]
  },
  {
   "cell_type": "markdown",
   "metadata": {},
   "source": [
    "### Call markers on Leiden"
   ]
  },
  {
   "cell_type": "code",
   "execution_count": null,
   "metadata": {},
   "outputs": [],
   "source": [
    "sc.tl.rank_genes_groups(corrected_batch_2, 'leiden05', method = 'wilcoxon', n_genes = 500, use_raw = True)\n",
    "result = corrected_batch_2.uns['rank_genes_groups']\n",
    "groups = result['names'].dtype.names\n",
    "heart_scGen_wilcox = pd.DataFrame(\n",
    "{group + '_' + key[:1]: result[key][group]\n",
    "    for group in groups for key in ['names', 'pvals_adj', 'logfoldchanges']})\n",
    "heart_scGen_wilcox.head(10)"
   ]
  },
  {
   "cell_type": "code",
   "execution_count": null,
   "metadata": {},
   "outputs": [],
   "source": [
    "heart_scGen_wilcox.to_csv('/home/jovyan/mona_data/2-EC/heart_EC_scGEN_ml200505_wilcox05.csv', index = False, sep = ',')"
   ]
  },
  {
   "cell_type": "code",
   "execution_count": null,
   "metadata": {},
   "outputs": [],
   "source": [
    "sc.pl.rank_genes_groups_matrixplot(corrected_batch_2, n_genes = 10, cmap = 'RdPu', standard_scale = 'var')"
   ]
  },
  {
   "cell_type": "code",
   "execution_count": null,
   "metadata": {},
   "outputs": [],
   "source": [
    "sc.pl.umap(corrected_batch_2, color = ['cell_type', 'leiden05'], size = 1, legend_fontsize = 6, color_map = 'RdPu')"
   ]
  },
  {
   "cell_type": "code",
   "execution_count": null,
   "metadata": {},
   "outputs": [],
   "source": [
    "ec_markers = ['PECAM1', 'CDH5', 'VWF', 'SEMA3G', 'HEY1', 'DLL4', 'ACKR1', 'NR2F2', 'DLL1', 'JUN', 'FOS', 'ATF3', 'SMOC1', 'INHBA', \n",
    "             'NOVA1', 'NPR3', 'POSTN', 'PROX1', 'PDPN', 'RGS5', 'PDGFRB', 'ABCC9', 'MYH11', 'ACTA2', 'DCN', 'CDH19', 'PTPRC', 'TTN', 'RYR2', 'MYL4', 'MYL7', 'AC020637.1',\n",
    "              'NRP2','ANO2','DOCK4','PTPRM','CDKN1C','TCF15','MARCKS','GPIHBP1','KCTD12','MCF2L','ITGA6','TMSB10','AQP1','CA4', 'CXCL1','ICAM1','CX3CL1','IL6','CXCL2','CCL2','IL32',\n",
    "             'NDUFA4L2','RGS5','COX4I2','TMSB4X','MT2A','CALM2','ADIRF','FTH1','TPM2','TIMP1','YBX1','NTRK3','MYH11', 'DOCK8', 'RERGL','ZBTB7C','LINC01568',\n",
    "             'RGCC','FCN3','IFI27','FABP5','TMEM88','CLDN5','PARD3', 'DLC1','PDGFRB','MALAT1','PLA2G5','EPS8','ABCC9','PDZD2','FRMD3','CALD1','EGFLAM','GUCY1A2', 'HBB']\n",
    "sc.pl.matrixplot(corrected_batch_2, ec_markers, groupby = 'leiden05', cmap = 'RdPu', dendrogram = False, standard_scale = 'var')"
   ]
  },
  {
   "cell_type": "code",
   "execution_count": null,
   "metadata": {},
   "outputs": [],
   "source": [
    "sc.pl.umap(corrected_batch_2, color = ['leiden05', 'PECAM1', 'CDH5', 'VWF', 'SEMA3G', 'HEY1', 'DLL4', 'ACKR1', 'NR2F2', 'DLL1', 'JUN', 'FOS', 'ATF3', 'SMOC1', 'INHBA', \n",
    "             'NOVA1', 'NPR3', 'POSTN', 'PROX1', 'PDPN', 'RGS5', 'PDGFRB','MYL2', 'LGALS1','RGCC', 'TCF15', 'IL1RL1', 'ITGA1', 'ITGA6','CDKN1C','HIGD1B','NDUFA4L2','AGT',\n",
    "             'RGS5','STEAP4','CPE','PDGFRB','ABCC9','GUCY1A2','COX4I2','ACTA2','TAGLN','TEKT4','FCER1G','S100A8','S100A9','S100A4','TMSB4X','CXCL11', 'CXCL10', 'CXCL8', 'CX3CL1', 'VCAM1', 'ICAM1' ], size = 1, legend_fontsize = 4, legend_loc = 'on data', frameon = False)"
   ]
  },
  {
   "cell_type": "markdown",
   "metadata": {},
   "source": [
    "### Annotate the dataset"
   ]
  },
  {
   "cell_type": "code",
   "execution_count": null,
   "metadata": {},
   "outputs": [],
   "source": [
    "sc.pl.umap(corrected_batch_2, color = ['leiden05'], size = 1, legend_fontsize = 4, legend_loc = 'on data', frameon = False)"
   ]
  },
  {
   "cell_type": "code",
   "execution_count": null,
   "metadata": {},
   "outputs": [],
   "source": [
    "corrected_batch_2.obs['leiden05'].cat.categories"
   ]
  },
  {
   "cell_type": "code",
   "execution_count": null,
   "metadata": {},
   "outputs": [],
   "source": [
    "corrected_batch_2.obs['cell_states'] = corrected_batch_2.obs['leiden05'].copy()\n",
    "corrected_batch_2.obs['cell_states'].cat.categories = ['EC0_cap', 'EC1_cap', 'EC2_art', 'EC3_activ', 'EC4_ven', 'EC5_cap', 'EC6_endo', 'EC7_stromal', 'EC8_CMC-like', 'EC9_stromal', 'Meso10', \n",
    "                                                       'EC11_AgP', 'EC12_FB-like', 'EC13_ln', 'EC14']\n",
    "sc.pl.umap(corrected_batch_2, color = ['cell_states'], size = 1, legend_fontsize = 5, legend_loc = 'on data', frameon = False)"
   ]
  },
  {
   "cell_type": "markdown",
   "metadata": {},
   "source": [
    "### Save and export the object"
   ]
  },
  {
   "cell_type": "code",
   "execution_count": null,
   "metadata": {},
   "outputs": [],
   "source": [
    "## Create a new object with main matrix containing all the genes, log-transformed\n",
    "scGEN_website = anndata.AnnData(X = ec.X, obs = corrected_batch_2.obs , var = ec.var, obsm = corrected_batch_2.obsm)\n",
    "scGEN_website"
   ]
  },
  {
   "cell_type": "code",
   "execution_count": null,
   "metadata": {},
   "outputs": [],
   "source": [
    "scGEN_website.write('/home/jovyan/mona_data/2-EC/heart_EC_scGEN_ml200511_website.h5ad')"
   ]
  },
  {
   "cell_type": "code",
   "execution_count": null,
   "metadata": {},
   "outputs": [],
   "source": [
    "## Create a new object with main matrix containing all the genes, raw\n",
    "scGEN_raw = anndata.AnnData(X = ec_raw.X, obs = corrected_batch_2.obs , var = ec_raw.var, obsm = corrected_batch_2.obsm)\n",
    "scGEN_raw"
   ]
  },
  {
   "cell_type": "code",
   "execution_count": null,
   "metadata": {},
   "outputs": [],
   "source": [
    "sc.pl.umap(scGEN_raw, color = ['VWF', 'RGS5', 'MSLN'], size = 1, legend_fontsize = 6, color_map = 'RdPu', frameon = False)"
   ]
  },
  {
   "cell_type": "code",
   "execution_count": null,
   "metadata": {},
   "outputs": [],
   "source": [
    "scGEN_raw.write('/home/jovyan/mona_data/2-EC/heart_EC_scGEN_ml200511_raw.h5ad')"
   ]
  }
 ],
 "metadata": {
  "kernelspec": {
   "display_name": "Python 3",
   "language": "python",
   "name": "python3"
  },
  "language_info": {
   "codemirror_mode": {
    "name": "ipython",
    "version": 3
   },
   "file_extension": ".py",
   "mimetype": "text/x-python",
   "name": "python",
   "nbconvert_exporter": "python",
   "pygments_lexer": "ipython3",
   "version": "3.7.0"
  }
 },
 "nbformat": 4,
 "nbformat_minor": 4
}
