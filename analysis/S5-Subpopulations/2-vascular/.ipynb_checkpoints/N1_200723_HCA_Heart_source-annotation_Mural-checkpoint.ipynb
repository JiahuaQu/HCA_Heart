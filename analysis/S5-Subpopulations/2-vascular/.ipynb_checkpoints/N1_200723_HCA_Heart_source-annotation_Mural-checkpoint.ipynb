{
 "cells": [
  {
   "cell_type": "markdown",
   "metadata": {},
   "source": [
    "## Analysis and batch correction of  individual sources of Mural Cells\n",
    "By Monika Litvinukova <br/>\n",
    "Latest update 23.07.20"
   ]
  },
  {
   "cell_type": "markdown",
   "metadata": {},
   "source": [
    "### Import required modules"
   ]
  },
  {
   "cell_type": "code",
   "execution_count": null,
   "metadata": {},
   "outputs": [],
   "source": [
    "import bbknn\n",
    "import anndata\n",
    "import numpy as np\n",
    "import pandas as pd\n",
    "import scanpy as sc\n",
    "import scipy as sp\n",
    "import seaborn as sb\n",
    "from matplotlib import rcParams\n",
    "from matplotlib import colors\n",
    "import matplotlib.pyplot as plt"
   ]
  },
  {
   "cell_type": "code",
   "execution_count": null,
   "metadata": {},
   "outputs": [],
   "source": [
    "## define the function for PCA regression for the bbknn bach correction\n",
    "def regress_pca(pca, batch):\n",
    "    regressors = np.zeros(pca.shape, dtype = 'float64')\n",
    "    regressed = np.zeros(pca.shape, dtype = 'float64')\n",
    "    for category in np.unique(batch):\n",
    "        mask = (category == batch)\n",
    "        regressors[mask,:] = np.mean(pca[mask,:],axis = 0)\n",
    "    for i in range(pca.shape[1]):\n",
    "        t = np.c_[np.ones(regressors[:,i].shape),regressors[:,i]]\n",
    "        b = np.dot(np.dot(np.linalg.inv(np.dot(t.T,t)),t.T),pca[:,i])\n",
    "        regressed[:,i] = pca[:,i] - b[0] - b[1] * t[:,1]\n",
    "    return regressed"
   ]
  },
  {
   "cell_type": "code",
   "execution_count": null,
   "metadata": {},
   "outputs": [],
   "source": [
    "sc.settings.verbosity = 3\n",
    "sc.logging.print_version_and_date()\n",
    "sc.settings.set_figure_params(dpi = 160, color_map = 'RdPu', dpi_save = 180, vector_friendly = True, format = 'svg')"
   ]
  },
  {
   "cell_type": "markdown",
   "metadata": {},
   "source": [
    "## Read in the global object\n",
    "`adata.X` is all the genes, raw, `adata.raw` are all genes, after CellBender"
   ]
  },
  {
   "cell_type": "code",
   "execution_count": null,
   "metadata": {},
   "outputs": [],
   "source": [
    "heart_raw = sc.read_h5ad('/home/jovyan/Mona/data/0-Global/hca_heart_global_ctl200422.h5ad')\n",
    "heart_raw"
   ]
  },
  {
   "cell_type": "code",
   "execution_count": null,
   "metadata": {},
   "outputs": [],
   "source": [
    "## revert to raw\n",
    "heart_really_raw = anndata.AnnData(X = heart_raw.raw.X, obs = heart_raw.obs , var = heart_raw.raw.var, obsm = heart_raw.obsm)\n",
    "heart_really_raw"
   ]
  },
  {
   "cell_type": "code",
   "execution_count": null,
   "metadata": {},
   "outputs": [],
   "source": [
    "sc.pl.umap(heart_really_raw, color = ['cell_type', 'region','cell_source',  'donor'], size = 1, legend_fontsize = 6)"
   ]
  },
  {
   "cell_type": "code",
   "execution_count": null,
   "metadata": {},
   "outputs": [],
   "source": [
    "## Isolate only the Endothelial cells and save to a single object\n",
    "heart_mc_raw = heart_really_raw[heart_really_raw.obs['cell_type'].isin(['mural'])]\n",
    "heart_mc_raw.shape"
   ]
  },
  {
   "cell_type": "code",
   "execution_count": null,
   "metadata": {},
   "outputs": [],
   "source": [
    "## Export the Mural-only object\n",
    "heart_mc_raw.write_h5ad('/home/jovyan/Mona/data/5-Mural/Mural_QCd_ml200423_raw.h5ad')"
   ]
  },
  {
   "cell_type": "markdown",
   "metadata": {},
   "source": [
    "## Split to individual sources,and QC"
   ]
  },
  {
   "cell_type": "code",
   "execution_count": null,
   "metadata": {},
   "outputs": [],
   "source": [
    "heart_mc_raw.obs['cell_source'].cat.categories"
   ]
  },
  {
   "cell_type": "code",
   "execution_count": null,
   "metadata": {},
   "outputs": [],
   "source": [
    "## Isolate only the cells and save to a single object\n",
    "mc_raw_cells = heart_mc_raw[heart_mc_raw.obs['cell_source'].isin(['Sanger-Cells'])]\n",
    "mc_raw_cells.shape"
   ]
  },
  {
   "cell_type": "code",
   "execution_count": null,
   "metadata": {},
   "outputs": [],
   "source": [
    "sc.pl.violin(mc_raw_cells, ['n_genes', 'n_counts', 'percent_mito', 'percent_ribo', 'scrublet_score'],jitter = 0.1, multi_panel = True)"
   ]
  },
  {
   "cell_type": "code",
   "execution_count": null,
   "metadata": {},
   "outputs": [],
   "source": [
    "pd.crosstab(mc_raw_cells.obs['donor'], mc_raw_cells.obs['region'])"
   ]
  },
  {
   "cell_type": "code",
   "execution_count": null,
   "metadata": {},
   "outputs": [],
   "source": [
    "## Isolate only the CD45 cells and save to a single object\n",
    "mc_raw_cd45 = heart_mc_raw[heart_mc_raw.obs['cell_source'].isin(['Sanger-CD45'])]\n",
    "mc_raw_cd45.shape"
   ]
  },
  {
   "cell_type": "code",
   "execution_count": null,
   "metadata": {},
   "outputs": [],
   "source": [
    "sc.pl.violin(mc_raw_cd45, ['n_genes', 'n_counts', 'percent_mito', 'percent_ribo', 'scrublet_score'],jitter = 0.1, multi_panel = True)"
   ]
  },
  {
   "cell_type": "code",
   "execution_count": null,
   "metadata": {},
   "outputs": [],
   "source": [
    "pd.crosstab(mc_raw_cd45.obs['donor'], mc_raw_cd45.obs['region'])"
   ]
  },
  {
   "cell_type": "code",
   "execution_count": null,
   "metadata": {},
   "outputs": [],
   "source": [
    "## Isolate only the sanger nuclei and save to a single object\n",
    "mc_raw_nuc_san = heart_mc_raw[heart_mc_raw.obs['cell_source'].isin(['Sanger-Nuclei'])]\n",
    "mc_raw_nuc_san.shape"
   ]
  },
  {
   "cell_type": "code",
   "execution_count": null,
   "metadata": {},
   "outputs": [],
   "source": [
    "sc.pl.violin(mc_raw_nuc_san, ['n_genes', 'n_counts', 'percent_mito', 'percent_ribo', 'scrublet_score'], jitter = 0.1, multi_panel = True)"
   ]
  },
  {
   "cell_type": "code",
   "execution_count": null,
   "metadata": {},
   "outputs": [],
   "source": [
    "pd.crosstab(mc_raw_nuc_san.obs['donor'], mc_raw_nuc_san.obs['region'])"
   ]
  },
  {
   "cell_type": "code",
   "execution_count": null,
   "metadata": {},
   "outputs": [],
   "source": [
    "## Isolate only the harvard nuclei and save to a single object\n",
    "mc_raw_nuc_har = heart_mc_raw[heart_mc_raw.obs['cell_source'].isin(['Harvard-Nuclei'])]\n",
    "mc_raw_nuc_har.shape"
   ]
  },
  {
   "cell_type": "code",
   "execution_count": null,
   "metadata": {},
   "outputs": [],
   "source": [
    "sc.pl.violin(mc_raw_nuc_har, ['n_genes', 'n_counts', 'percent_mito', 'percent_ribo', 'scrublet_score'],jitter = 0.1, multi_panel = True)"
   ]
  },
  {
   "cell_type": "code",
   "execution_count": null,
   "metadata": {},
   "outputs": [],
   "source": [
    "pd.crosstab(mc_raw_nuc_har.obs['donor'], mc_raw_nuc_har.obs['region'])"
   ]
  },
  {
   "cell_type": "code",
   "execution_count": null,
   "metadata": {},
   "outputs": [],
   "source": [
    "mc_markers = ['CDH5', 'PECAM1', 'VWF', 'MYH11', 'TAGLN', 'ACTA2', 'CNN1', 'LINC01592', 'CD36', 'ABCC9', 'KCNJ8', 'CD44', 'AGT', 'THBS4', 'THY1', 'RPS14', \n",
    "              'COLEC11', 'THY1', 'ENG', 'TTN', 'RYR2', 'NPPA', 'DCN', 'GSN', 'PTPRC', 'C1QA']"
   ]
  },
  {
   "cell_type": "markdown",
   "metadata": {},
   "source": [
    "## Batch-correct and annotate the individual sources"
   ]
  },
  {
   "cell_type": "markdown",
   "metadata": {},
   "source": [
    "### Total cells"
   ]
  },
  {
   "cell_type": "code",
   "execution_count": null,
   "metadata": {},
   "outputs": [],
   "source": [
    "mc_cells = mc_raw_cells.copy()\n",
    "sc.pp.normalize_per_cell(mc_cells, counts_per_cell_after = 1e4)\n",
    "sc.pp.log1p(mc_cells)\n",
    "mc_cells.raw = mc_cells.copy()"
   ]
  },
  {
   "cell_type": "code",
   "execution_count": null,
   "metadata": {},
   "outputs": [],
   "source": [
    "sc.pp.highly_variable_genes(mc_cells, flavor = 'seurat')\n",
    "cells_hvg = mc_cells[:, mc_cells.var['highly_variable']]\n",
    "cells_hvg.shape"
   ]
  },
  {
   "cell_type": "code",
   "execution_count": null,
   "metadata": {},
   "outputs": [],
   "source": [
    "sc.pp.scale(cells_hvg, max_value = 10)"
   ]
  },
  {
   "cell_type": "code",
   "execution_count": null,
   "metadata": {},
   "outputs": [],
   "source": [
    "sc.pp.pca(cells_hvg, n_comps = 50, use_highly_variable = True, svd_solver = 'arpack')\n",
    "sc.pp.neighbors(cells_hvg)\n",
    "sc.tl.umap(cells_hvg)"
   ]
  },
  {
   "cell_type": "code",
   "execution_count": null,
   "metadata": {},
   "outputs": [],
   "source": [
    "sc.pl.pca_scatter(cells_hvg, color = ['region', 'donor', 'cell_source'], size = 1, legend_fontsize = 6)\n",
    "sc.pl.umap(cells_hvg, color = ['region', 'donor', 'cell_source'], size = 1, legend_fontsize = 6)"
   ]
  },
  {
   "cell_type": "code",
   "execution_count": null,
   "metadata": {},
   "outputs": [],
   "source": [
    "## bbknn with the LR - donor only\n",
    "lrkp9_donor_cells = cells_hvg.copy()\n",
    "lrkp9_donor_cells.obsm['X_pca_original'] = lrkp9_donor_cells.obsm['X_pca'].copy()\n",
    "lrkp9_donor_cells.obsm['X_pca'] = regress_pca(lrkp9_donor_cells.obsm['X_pca'], lrkp9_donor_cells.obs['donor'])"
   ]
  },
  {
   "cell_type": "code",
   "execution_count": null,
   "metadata": {},
   "outputs": [],
   "source": [
    "cells_bbknn_lr_donor = bbknn.bbknn(lrkp9_donor_cells, neighbors_within_batch = 3, batch_key = 'donor', approx = True, copy = True, n_trees = 30)\n",
    "sc.tl.umap(cells_bbknn_lr_donor, min_dist = 0.1, spread = 3, random_state = 1712)\n",
    "sc.pl.umap(cells_bbknn_lr_donor, color = ['cell_source', 'donor', 'region', 'scrublet_score' , 'n_genes', 'n_counts', 'percent_mito', 'percent_ribo'], size = 5, legend_fontsize = 6)"
   ]
  },
  {
   "cell_type": "code",
   "execution_count": null,
   "metadata": {},
   "outputs": [],
   "source": [
    "sc.tl.leiden(cells_bbknn_lr_donor, resolution = 0.8, random_state = 1712)\n",
    "sc.pl.umap(cells_bbknn_lr_donor, color = ['leiden', 'donor', 'region'], size = 5, legend_fontsize = 6)"
   ]
  },
  {
   "cell_type": "code",
   "execution_count": null,
   "metadata": {},
   "outputs": [],
   "source": [
    "sc.pl.matrixplot(cells_bbknn_lr_donor, mc_markers, groupby = 'leiden', cmap = 'RdPu',  standard_scale = 'var')"
   ]
  },
  {
   "cell_type": "code",
   "execution_count": null,
   "metadata": {},
   "outputs": [],
   "source": [
    "sc.tl.rank_genes_groups(cells_bbknn_lr_donor, 'leiden', method = 'wilcoxon', use_raw = True)\n",
    "result_cells = cells_bbknn_lr_donor.uns['rank_genes_groups']\n",
    "groups_cells = result_cells['names'].dtype.names\n",
    "wilcox_cells = pd.DataFrame(\n",
    "{group + '_' + key[:1]: result_cells[key][group]\n",
    "    for group in groups_cells for key in ['names', 'logfoldchanges', 'pvals_adj']})\n",
    "wilcox_cells.head(10)"
   ]
  },
  {
   "cell_type": "code",
   "execution_count": null,
   "metadata": {},
   "outputs": [],
   "source": [
    "wilcox_cells.to_csv('/home/jovyan/Mona/data/5-Mural/genelists/Mural_cells_ml200423_wilcox08.csv', index = False, sep = ',')"
   ]
  },
  {
   "cell_type": "code",
   "execution_count": null,
   "metadata": {},
   "outputs": [],
   "source": [
    "sc.pl.rank_genes_groups_matrixplot(cells_bbknn_lr_donor, n_genes = 10, cmap = 'RdPu', standard_scale = 'var')"
   ]
  },
  {
   "cell_type": "code",
   "execution_count": null,
   "metadata": {},
   "outputs": [],
   "source": [
    "sc.pl.umap(cells_bbknn_lr_donor, color = mc_markers, size = 1, legend_fontsize = 6, legend_loc = 'on data', frameon = False)"
   ]
  },
  {
   "cell_type": "code",
   "execution_count": null,
   "metadata": {},
   "outputs": [],
   "source": [
    "sc.pl.umap(cells_bbknn_lr_donor, color = ['leiden'], size = 5, legend_fontsize = 6, legend_loc = 'on data', frameon = False)"
   ]
  },
  {
   "cell_type": "code",
   "execution_count": null,
   "metadata": {},
   "outputs": [],
   "source": [
    "cells_bbknn_lr_donor.obs['leiden'].cat.categories"
   ]
  },
  {
   "cell_type": "code",
   "execution_count": null,
   "metadata": {},
   "outputs": [],
   "source": [
    "cells_bbknn_lr_donor.obs['cell_types'] = cells_bbknn_lr_donor.obs['leiden']\n",
    "cells_bbknn_lr_donor.obs['cell_types'].cat.categories = ['MC_C0_PC', 'MC_C1_SMC', 'MC_C2_stromal', 'MC_C3_PC', 'MC_C4_artSMC', 'MC_C5_PC', 'MC_C6_PC']\n",
    "sc.pl.umap(cells_bbknn_lr_donor, color = ['cell_types'], size = 5, legend_fontsize = 6, legend_loc = 'on data', frameon = False)"
   ]
  },
  {
   "cell_type": "code",
   "execution_count": null,
   "metadata": {},
   "outputs": [],
   "source": [
    "## Create a new object with main matrix containing all the genes, raw\n",
    "cells_export = anndata.AnnData(X = mc_raw_cells.X, obs = cells_bbknn_lr_donor.obs , var = mc_raw_cells.var, obsm = cells_bbknn_lr_donor.obsm)\n",
    "cells_export"
   ]
  },
  {
   "cell_type": "code",
   "execution_count": null,
   "metadata": {},
   "outputs": [],
   "source": [
    "sc.pl.umap(cells_export, color = ['AGT', 'MYH11'], size = 5, legend_fontsize = 6, legend_loc = 'on data', frameon = False, use_raw = False)"
   ]
  },
  {
   "cell_type": "code",
   "execution_count": null,
   "metadata": {},
   "outputs": [],
   "source": [
    "cells_export.write('/home/jovyan/Mona/data/5-Mural/heart_mc_cells_annotated_ml200423_RAW.h5ad')"
   ]
  },
  {
   "cell_type": "markdown",
   "metadata": {},
   "source": [
    "### CD45 cells only"
   ]
  },
  {
   "cell_type": "code",
   "execution_count": null,
   "metadata": {},
   "outputs": [],
   "source": [
    "mc_cd45 = mc_raw_cd45.copy()\n",
    "sc.pp.normalize_per_cell(mc_cd45, counts_per_cell_after = 1e4)\n",
    "sc.pp.log1p(mc_cd45)\n",
    "mc_cd45.raw = mc_cd45.copy()"
   ]
  },
  {
   "cell_type": "code",
   "execution_count": null,
   "metadata": {},
   "outputs": [],
   "source": [
    "sc.pp.highly_variable_genes(mc_cd45, flavor = 'seurat')\n",
    "cd45_hvg = mc_cd45[:, mc_cd45.var['highly_variable']]\n",
    "cd45_hvg.shape"
   ]
  },
  {
   "cell_type": "code",
   "execution_count": null,
   "metadata": {},
   "outputs": [],
   "source": [
    "sc.pp.scale(cd45_hvg, max_value = 10)"
   ]
  },
  {
   "cell_type": "code",
   "execution_count": null,
   "metadata": {},
   "outputs": [],
   "source": [
    "sc.pp.pca(cd45_hvg, n_comps = 50, use_highly_variable = True, svd_solver = 'arpack')\n",
    "sc.pp.neighbors(cd45_hvg)\n",
    "sc.tl.umap(cd45_hvg)"
   ]
  },
  {
   "cell_type": "code",
   "execution_count": null,
   "metadata": {},
   "outputs": [],
   "source": [
    "sc.pl.pca_scatter(cd45_hvg, color = ['region', 'donor', 'cell_source'], size = 1, legend_fontsize = 6)\n",
    "sc.pl.umap(cd45_hvg, color = ['region', 'donor', 'cell_source'], size = 1, legend_fontsize = 6)"
   ]
  },
  {
   "cell_type": "code",
   "execution_count": null,
   "metadata": {},
   "outputs": [],
   "source": [
    "## bbknn with the LR - donor only\n",
    "lrkp9_donor_cd45 = cd45_hvg.copy()\n",
    "lrkp9_donor_cd45.obsm['X_pca_original'] = lrkp9_donor_cd45.obsm['X_pca'].copy()\n",
    "lrkp9_donor_cd45.obsm['X_pca'] = regress_pca(lrkp9_donor_cd45.obsm['X_pca'], lrkp9_donor_cd45.obs['donor'])"
   ]
  },
  {
   "cell_type": "code",
   "execution_count": null,
   "metadata": {},
   "outputs": [],
   "source": [
    "cd45_bbknn_lr_donor = bbknn.bbknn(lrkp9_donor_cd45, neighbors_within_batch = 3, batch_key = 'donor', approx = True, copy = True, n_trees = 30)\n",
    "sc.tl.umap(cd45_bbknn_lr_donor, min_dist = 0.3, spread = 1, random_state = 1712)\n",
    "sc.pl.umap(cd45_bbknn_lr_donor, color = ['cell_source', 'donor', 'region', 'scrublet_score' , 'n_genes', 'n_counts', 'percent_mito', 'percent_ribo'], size = 5, legend_fontsize = 6)"
   ]
  },
  {
   "cell_type": "code",
   "execution_count": null,
   "metadata": {},
   "outputs": [],
   "source": [
    "sc.tl.leiden(cd45_bbknn_lr_donor, resolution = 0.6, random_state = 1712)\n",
    "sc.pl.umap(cd45_bbknn_lr_donor, color = ['leiden', 'donor', 'region'], size = 5, legend_fontsize = 6)"
   ]
  },
  {
   "cell_type": "code",
   "execution_count": null,
   "metadata": {},
   "outputs": [],
   "source": [
    "sc.pl.matrixplot(cd45_bbknn_lr_donor, mc_markers, groupby = 'leiden', cmap = 'RdPu', dendrogram = False, standard_scale = 'var')"
   ]
  },
  {
   "cell_type": "code",
   "execution_count": null,
   "metadata": {},
   "outputs": [],
   "source": [
    "sc.tl.rank_genes_groups(cd45_bbknn_lr_donor, 'leiden', method = 'wilcoxon', use_raw = True)\n",
    "result_cd45 = cd45_bbknn_lr_donor.uns['rank_genes_groups']\n",
    "groups_cd45 = result_cd45['names'].dtype.names\n",
    "wilcox_cd45 = pd.DataFrame(\n",
    "{group + '_' + key[:1]: result_cd45[key][group]\n",
    "    for group in groups_cd45 for key in ['names', 'logfoldchanges', 'pvals_adj']})\n",
    "wilcox_cd45.head(10)"
   ]
  },
  {
   "cell_type": "code",
   "execution_count": null,
   "metadata": {},
   "outputs": [],
   "source": [
    "wilcox_cd45.to_csv('/home/jovyan/Mona/data/5-Mural/genelists/Mural_cd45_ml200423_wilcox06.csv', index = False, sep = ',')"
   ]
  },
  {
   "cell_type": "code",
   "execution_count": null,
   "metadata": {},
   "outputs": [],
   "source": [
    "sc.pl.rank_genes_groups_matrixplot(cd45_bbknn_lr_donor, n_genes = 10, cmap = 'RdPu', standard_scale = 'var')"
   ]
  },
  {
   "cell_type": "code",
   "execution_count": null,
   "metadata": {},
   "outputs": [],
   "source": [
    "sc.pl.umap(cd45_bbknn_lr_donor, color = mc_markers, size = 1, legend_fontsize = 6, legend_loc = 'on data', frameon = False)"
   ]
  },
  {
   "cell_type": "code",
   "execution_count": null,
   "metadata": {},
   "outputs": [],
   "source": [
    "sc.pl.umap(cd45_bbknn_lr_donor, color = ['leiden'], size = 5, legend_fontsize = 6, legend_loc = 'on data', frameon = False)"
   ]
  },
  {
   "cell_type": "code",
   "execution_count": null,
   "metadata": {},
   "outputs": [],
   "source": [
    "cd45_bbknn_lr_donor.obs['leiden'].cat.categories"
   ]
  },
  {
   "cell_type": "code",
   "execution_count": null,
   "metadata": {},
   "outputs": [],
   "source": [
    "cd45_bbknn_lr_donor.obs['cell_types'] = cd45_bbknn_lr_donor.obs['leiden']\n",
    "cd45_bbknn_lr_donor.obs['cell_types'].cat.categories = ['MC_D0_PC', 'MC_D1_stromal', 'MC_D2_SMC', 'MC_D3_PC', 'MC_D4_stromal', 'MC_D5_PC', \n",
    "                                                        'MC_D6_stromal', 'MC_D7_SMC', 'MC_D8_artSMC']\n",
    "sc.pl.umap(cd45_bbknn_lr_donor, color = ['cell_types'], size = 5, legend_fontsize = 6, legend_loc = 'on data', frameon = False)"
   ]
  },
  {
   "cell_type": "code",
   "execution_count": null,
   "metadata": {},
   "outputs": [],
   "source": [
    "## Create a new object with main matrix containing all the genes, raw\n",
    "cd45_export = anndata.AnnData(X = mc_raw_cd45.X, obs = cd45_bbknn_lr_donor.obs , var = mc_raw_cd45.var, obsm = cd45_bbknn_lr_donor.obsm)\n",
    "cd45_export"
   ]
  },
  {
   "cell_type": "code",
   "execution_count": null,
   "metadata": {},
   "outputs": [],
   "source": [
    "sc.pl.umap(cd45_export, color = ['AGT', 'MYH11'], size = 1, legend_fontsize = 6, legend_loc = 'on data', frameon = False)"
   ]
  },
  {
   "cell_type": "code",
   "execution_count": null,
   "metadata": {},
   "outputs": [],
   "source": [
    "cd45_export.write('/home/jovyan/Mona/data/5-Mural/heart_mc_cd45_annotated_ml200423_RAW.h5ad')"
   ]
  },
  {
   "cell_type": "markdown",
   "metadata": {},
   "source": [
    "### Sanger Nuclei only"
   ]
  },
  {
   "cell_type": "code",
   "execution_count": null,
   "metadata": {},
   "outputs": [],
   "source": [
    "mc_nuc_san = mc_raw_nuc_san.copy()\n",
    "sc.pp.normalize_per_cell(mc_nuc_san, counts_per_cell_after = 1e4)\n",
    "sc.pp.log1p(mc_nuc_san)\n",
    "mc_nuc_san.raw = mc_nuc_san.copy()"
   ]
  },
  {
   "cell_type": "code",
   "execution_count": null,
   "metadata": {},
   "outputs": [],
   "source": [
    "sc.pp.highly_variable_genes(mc_nuc_san, flavor = 'seurat')\n",
    "san_nuc_hvg = mc_nuc_san[:, mc_nuc_san.var['highly_variable']]\n",
    "san_nuc_hvg.shape"
   ]
  },
  {
   "cell_type": "code",
   "execution_count": null,
   "metadata": {},
   "outputs": [],
   "source": [
    "sc.pp.scale(san_nuc_hvg, max_value = 10)"
   ]
  },
  {
   "cell_type": "code",
   "execution_count": null,
   "metadata": {},
   "outputs": [],
   "source": [
    "sc.pp.pca(san_nuc_hvg, n_comps = 50, use_highly_variable = True, svd_solver = 'arpack')\n",
    "sc.pp.neighbors(san_nuc_hvg)\n",
    "sc.tl.umap(san_nuc_hvg)"
   ]
  },
  {
   "cell_type": "code",
   "execution_count": null,
   "metadata": {},
   "outputs": [],
   "source": [
    "sc.pl.pca_scatter(san_nuc_hvg, color = ['region', 'donor', 'cell_source'], size = 1, legend_fontsize = 6)\n",
    "sc.pl.umap(san_nuc_hvg, color = ['region', 'donor', 'cell_source'], size = 1, legend_fontsize = 6)"
   ]
  },
  {
   "cell_type": "code",
   "execution_count": null,
   "metadata": {},
   "outputs": [],
   "source": [
    "## bbknn with the LR - donor only\n",
    "lrkp9_san_nuc = san_nuc_hvg.copy()\n",
    "lrkp9_san_nuc.obsm['X_pca_original'] = lrkp9_san_nuc.obsm['X_pca'].copy()\n",
    "lrkp9_san_nuc.obsm['X_pca'] = regress_pca(lrkp9_san_nuc.obsm['X_pca'], lrkp9_san_nuc.obs['donor'])"
   ]
  },
  {
   "cell_type": "code",
   "execution_count": null,
   "metadata": {},
   "outputs": [],
   "source": [
    "san_nuc_bbknn_lr = bbknn.bbknn(lrkp9_san_nuc, neighbors_within_batch = 3, batch_key = 'donor', approx = True, copy = True, n_trees = 30)\n",
    "sc.tl.umap(san_nuc_bbknn_lr, min_dist = 0.1, spread = 5, random_state = 1712)\n",
    "sc.pl.umap(san_nuc_bbknn_lr, color = ['cell_source', 'donor', 'region', 'scrublet_score' , 'n_genes', 'n_counts', 'percent_mito', 'percent_ribo'], size = 1, legend_fontsize = 6)"
   ]
  },
  {
   "cell_type": "code",
   "execution_count": null,
   "metadata": {},
   "outputs": [],
   "source": [
    "sc.tl.leiden(san_nuc_bbknn_lr, resolution = 1, random_state = 1712)\n",
    "sc.pl.umap(san_nuc_bbknn_lr, color = ['leiden', 'donor', 'region'], size = 1, legend_fontsize = 6)"
   ]
  },
  {
   "cell_type": "code",
   "execution_count": null,
   "metadata": {},
   "outputs": [],
   "source": [
    "sc.pl.matrixplot(san_nuc_bbknn_lr, mc_markers, groupby = 'leiden', cmap = 'RdPu', dendrogram = False, standard_scale = 'var')"
   ]
  },
  {
   "cell_type": "code",
   "execution_count": null,
   "metadata": {},
   "outputs": [],
   "source": [
    "sc.tl.rank_genes_groups(san_nuc_bbknn_lr, 'leiden', method = 'wilcoxon', use_raw = True)\n",
    "result_nuc_s = san_nuc_bbknn_lr.uns['rank_genes_groups']\n",
    "groups_nuc_s = result_nuc_s['names'].dtype.names\n",
    "wilcox_nuc_s = pd.DataFrame(\n",
    "{group + '_' + key[:1]: result_nuc_s[key][group]\n",
    "    for group in groups_nuc_s for key in ['names', 'logfoldchanges', 'pvals_adj']})\n",
    "wilcox_nuc_s.head(10)"
   ]
  },
  {
   "cell_type": "code",
   "execution_count": null,
   "metadata": {},
   "outputs": [],
   "source": [
    "wilcox_nuc_s.to_csv('/home/jovyan/Mona/data/5-Mural/genelists/Mural_SanNuc_ml200423_wilcox1.csv', index = False, sep = ',')"
   ]
  },
  {
   "cell_type": "code",
   "execution_count": null,
   "metadata": {},
   "outputs": [],
   "source": [
    "sc.pl.rank_genes_groups_matrixplot(san_nuc_bbknn_lr, n_genes = 10, cmap = 'RdPu', standard_scale = 'var')"
   ]
  },
  {
   "cell_type": "code",
   "execution_count": null,
   "metadata": {},
   "outputs": [],
   "source": [
    "sc.pl.umap(san_nuc_bbknn_lr, color = mc_markers, size = 1, legend_fontsize = 6, legend_loc = 'on data', frameon = False)"
   ]
  },
  {
   "cell_type": "code",
   "execution_count": null,
   "metadata": {},
   "outputs": [],
   "source": [
    "sc.pl.umap(san_nuc_bbknn_lr, color = ['leiden'], size = 1, legend_fontsize = 6, legend_loc = 'on data', frameon = False)"
   ]
  },
  {
   "cell_type": "code",
   "execution_count": null,
   "metadata": {},
   "outputs": [],
   "source": [
    "san_nuc_bbknn_lr.obs['leiden'].cat.categories"
   ]
  },
  {
   "cell_type": "code",
   "execution_count": null,
   "metadata": {},
   "outputs": [],
   "source": [
    "san_nuc_bbknn_lr.obs['cell_types'] = san_nuc_bbknn_lr.obs['leiden']\n",
    "san_nuc_bbknn_lr.obs['cell_types'].cat.categories = ['MC_S0_PC', 'MC_S1_PC', 'MC_S2_stromal', 'MC_S3_PC', 'MC_S4_SMC', 'MC_S5_PC', \n",
    "                                                     'MC_S6_PC', 'MC_S7_PC', 'MC_S8_lnEC', 'MC_S9_cmc', 'MC_S10_fb']\n",
    "sc.pl.umap(san_nuc_bbknn_lr, color = ['cell_types'], size = 1, legend_fontsize = 6, legend_loc = 'on data', frameon = False)"
   ]
  },
  {
   "cell_type": "code",
   "execution_count": null,
   "metadata": {},
   "outputs": [],
   "source": [
    "## Create a new object with main matrix containing all the genes, raw\n",
    "nuc_san_export = anndata.AnnData(X = mc_raw_nuc_san.X, obs = san_nuc_bbknn_lr.obs , var = mc_raw_nuc_san.var, obsm = san_nuc_bbknn_lr.obsm)\n",
    "nuc_san_export"
   ]
  },
  {
   "cell_type": "code",
   "execution_count": null,
   "metadata": {},
   "outputs": [],
   "source": [
    "sc.pl.umap(nuc_san_export, color = ['AGT', 'MYH11'], size = 1, legend_fontsize = 6, legend_loc = 'on data', frameon = False)"
   ]
  },
  {
   "cell_type": "code",
   "execution_count": null,
   "metadata": {},
   "outputs": [],
   "source": [
    "nuc_san_export.write('/home/jovyan/Mona/data/5-Mural/heart_mc_SanNuc_annotated_ml200423_RAW.h5ad')"
   ]
  },
  {
   "cell_type": "markdown",
   "metadata": {},
   "source": [
    "### Harvard Nuclei only"
   ]
  },
  {
   "cell_type": "code",
   "execution_count": null,
   "metadata": {},
   "outputs": [],
   "source": [
    "mc_nuc_har = mc_raw_nuc_har.copy()\n",
    "sc.pp.normalize_per_cell(mc_nuc_har, counts_per_cell_after = 1e4)\n",
    "sc.pp.log1p(mc_nuc_har)\n",
    "mc_nuc_har.raw = mc_nuc_har.copy()"
   ]
  },
  {
   "cell_type": "code",
   "execution_count": null,
   "metadata": {},
   "outputs": [],
   "source": [
    "sc.pp.highly_variable_genes(mc_nuc_har, flavor = 'seurat')\n",
    "har_nuc_hvg = mc_nuc_har[:, mc_nuc_har.var['highly_variable']]\n",
    "har_nuc_hvg.shape"
   ]
  },
  {
   "cell_type": "code",
   "execution_count": null,
   "metadata": {},
   "outputs": [],
   "source": [
    "sc.pp.scale(har_nuc_hvg, max_value = 10)"
   ]
  },
  {
   "cell_type": "code",
   "execution_count": null,
   "metadata": {},
   "outputs": [],
   "source": [
    "sc.pp.pca(har_nuc_hvg, n_comps = 50, use_highly_variable = True, svd_solver = 'arpack')\n",
    "sc.pp.neighbors(har_nuc_hvg)\n",
    "sc.tl.umap(har_nuc_hvg)"
   ]
  },
  {
   "cell_type": "code",
   "execution_count": null,
   "metadata": {},
   "outputs": [],
   "source": [
    "sc.pl.pca_scatter(har_nuc_hvg, color = ['region', 'donor', 'cell_source'], size = 1, legend_fontsize = 6)\n",
    "sc.pl.umap(har_nuc_hvg, color = ['region', 'donor', 'cell_source'], size = 1, legend_fontsize = 6)"
   ]
  },
  {
   "cell_type": "code",
   "execution_count": null,
   "metadata": {},
   "outputs": [],
   "source": [
    "## bbknn with the LR - donor only\n",
    "lrkp9_har_nuc = har_nuc_hvg.copy()\n",
    "lrkp9_har_nuc.obsm['X_pca_original'] = lrkp9_har_nuc.obsm['X_pca'].copy()\n",
    "lrkp9_har_nuc.obsm['X_pca'] = regress_pca(lrkp9_har_nuc.obsm['X_pca'], lrkp9_har_nuc.obs['donor'])"
   ]
  },
  {
   "cell_type": "code",
   "execution_count": null,
   "metadata": {},
   "outputs": [],
   "source": [
    "har_nuc_bbknn_lr = bbknn.bbknn(lrkp9_har_nuc, neighbors_within_batch = 3, batch_key = 'donor', approx = True, copy = True, n_trees = 30)\n",
    "sc.tl.umap(har_nuc_bbknn_lr, min_dist = 0.1, spread = 5, random_state = 1712)\n",
    "sc.pl.umap(har_nuc_bbknn_lr, color = ['cell_source', 'donor', 'region', 'scrublet_score' , 'n_genes', 'n_counts', 'percent_mito', 'percent_ribo'], size = 1, legend_fontsize = 6)"
   ]
  },
  {
   "cell_type": "code",
   "execution_count": null,
   "metadata": {},
   "outputs": [],
   "source": [
    "sc.tl.leiden(har_nuc_bbknn_lr, resolution = 0.5, random_state = 1712)\n",
    "sc.pl.umap(har_nuc_bbknn_lr, color = ['leiden', 'donor', 'region'], size = 1, legend_fontsize = 6)"
   ]
  },
  {
   "cell_type": "code",
   "execution_count": null,
   "metadata": {},
   "outputs": [],
   "source": [
    "sc.pl.matrixplot(har_nuc_bbknn_lr, mc_markers, groupby = 'leiden', cmap = 'RdPu', standard_scale = 'var', dendrogram = False)"
   ]
  },
  {
   "cell_type": "code",
   "execution_count": null,
   "metadata": {},
   "outputs": [],
   "source": [
    "sc.tl.rank_genes_groups(har_nuc_bbknn_lr, 'leiden', method = 'wilcoxon', use_raw = True)\n",
    "result_nuc_h = har_nuc_bbknn_lr.uns['rank_genes_groups']\n",
    "groups_nuc_h = result_nuc_h['names'].dtype.names\n",
    "wilcox_nuc_h = pd.DataFrame(\n",
    "{group + '_' + key[:1]: result_nuc_h[key][group]\n",
    "    for group in groups_nuc_h for key in ['names', 'logfoldchanges', 'pvals_adj']})\n",
    "wilcox_nuc_h.head(10)"
   ]
  },
  {
   "cell_type": "code",
   "execution_count": null,
   "metadata": {},
   "outputs": [],
   "source": [
    "wilcox_nuc_h.to_csv('/home/jovyan/Mona/data/5-Mural/genelists/Mural_HarNuc_ml200423_wilcox05.csv', index = False, sep = ',')"
   ]
  },
  {
   "cell_type": "code",
   "execution_count": null,
   "metadata": {},
   "outputs": [],
   "source": [
    "sc.tl.dendrogram(har_nuc_bbknn_lr, groupby = 'leiden')\n",
    "sc.pl.rank_genes_groups_matrixplot(har_nuc_bbknn_lr, n_genes = 10, cmap = 'RdPu', standard_scale = 'var')"
   ]
  },
  {
   "cell_type": "code",
   "execution_count": null,
   "metadata": {},
   "outputs": [],
   "source": [
    "sc.pl.umap(har_nuc_bbknn_lr, color = mc_markers, size = 1, legend_fontsize = 6, legend_loc = 'on data', frameon = False)"
   ]
  },
  {
   "cell_type": "code",
   "execution_count": null,
   "metadata": {},
   "outputs": [],
   "source": [
    "sc.pl.umap(har_nuc_bbknn_lr, color = ['leiden'], size = 1, legend_fontsize = 6, legend_loc = 'on data', frameon = False, palette = \"Dark2\")"
   ]
  },
  {
   "cell_type": "code",
   "execution_count": null,
   "metadata": {},
   "outputs": [],
   "source": [
    "har_nuc_bbknn_lr.obs['leiden'].cat.categories"
   ]
  },
  {
   "cell_type": "code",
   "execution_count": null,
   "metadata": {},
   "outputs": [],
   "source": [
    "har_nuc_bbknn_lr.obs['cell_types'] = har_nuc_bbknn_lr.obs['leiden']\n",
    "har_nuc_bbknn_lr.obs['cell_types'].cat.categories = ['MC_H0_PC', 'MC_H1_PC', 'MC_H2_PC', 'MC_H3_SMC', 'MC_H4_stromal', 'MC_H5_cmc', \n",
    "                                                     'MC_H6_SMCart', 'MC_H7_EC-like']\n",
    "sc.pl.umap(har_nuc_bbknn_lr, color = ['cell_types'], size = 1, legend_fontsize = 6, legend_loc = 'on data', frameon = False)"
   ]
  },
  {
   "cell_type": "code",
   "execution_count": null,
   "metadata": {},
   "outputs": [],
   "source": [
    "## Create a new object with main matrix containing all the genes, raw, raw is cellbenderised\n",
    "nuc_har_export = anndata.AnnData(X = mc_raw_nuc_har.X, obs = har_nuc_bbknn_lr.obs , var = mc_raw_nuc_har.var, obsm = har_nuc_bbknn_lr.obsm)\n",
    "nuc_har_export"
   ]
  },
  {
   "cell_type": "code",
   "execution_count": null,
   "metadata": {},
   "outputs": [],
   "source": [
    "sc.pl.umap(nuc_har_export, color = ['AGT', 'MYH11'], size = 1, legend_fontsize = 6, legend_loc = 'on data', frameon = False, use_raw = False)"
   ]
  },
  {
   "cell_type": "code",
   "execution_count": null,
   "metadata": {},
   "outputs": [],
   "source": [
    "nuc_har_export.write('/home/jovyan/Mona/data/5-Mural/heart_mc_HarNuc_annotated_ml200423_RAW.h5ad')"
   ]
  },
  {
   "cell_type": "markdown",
   "metadata": {},
   "source": [
    "## Create a single object and save"
   ]
  },
  {
   "cell_type": "code",
   "execution_count": null,
   "metadata": {},
   "outputs": [],
   "source": [
    "ec_merged = cells_export.concatenate(cd45_export, nuc_san_export, nuc_har_export, batch_key = 'merged_source', batch_categories = ['Cells', 'CD45', 'Sanger_nuclei', 'Harvard_nuclei'],  join = 'outer')\n",
    "ec_merged"
   ]
  },
  {
   "cell_type": "code",
   "execution_count": null,
   "metadata": {},
   "outputs": [],
   "source": [
    "ec_merged.write('/home/jovyan/Mona/data/5-Mural/heart_mc_merged_annotated_ml200423_RAW.h5ad')"
   ]
  }
 ],
 "metadata": {
  "kernelspec": {
   "display_name": "Python 3",
   "language": "python",
   "name": "python3"
  },
  "language_info": {
   "codemirror_mode": {
    "name": "ipython",
    "version": 3
   },
   "file_extension": ".py",
   "mimetype": "text/x-python",
   "name": "python",
   "nbconvert_exporter": "python",
   "pygments_lexer": "ipython3",
   "version": "3.7.0"
  }
 },
 "nbformat": 4,
 "nbformat_minor": 4
}
