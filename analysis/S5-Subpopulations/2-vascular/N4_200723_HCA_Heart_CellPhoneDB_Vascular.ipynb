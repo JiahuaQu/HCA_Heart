{
 "cells": [
  {
   "cell_type": "markdown",
   "metadata": {},
   "source": [
    "## Preparation for the CellPhoneDB Analysis of the Vascular cells\n",
    "By Monika Litvinukova <br/>\n",
    "Latest update 23.07.20"
   ]
  },
  {
   "cell_type": "markdown",
   "metadata": {},
   "source": [
    "### Import required modules"
   ]
  },
  {
   "cell_type": "code",
   "execution_count": 2,
   "metadata": {},
   "outputs": [
    {
     "name": "stderr",
     "output_type": "stream",
     "text": [
      "/opt/conda/lib/python3.7/site-packages/dask/config.py:161: YAMLLoadWarning: calling yaml.load() without Loader=... is deprecated, as the default Loader is unsafe. Please read https://msg.pyyaml.org/load for full details.\n",
      "  data = yaml.load(f.read()) or {}\n"
     ]
    }
   ],
   "source": [
    "import os\n",
    "import numpy as np\n",
    "import pandas as pd\n",
    "import scanpy as sc"
   ]
  },
  {
   "cell_type": "markdown",
   "metadata": {},
   "source": [
    "### Read object - raw counts"
   ]
  },
  {
   "cell_type": "code",
   "execution_count": 3,
   "metadata": {},
   "outputs": [
    {
     "data": {
      "text/plain": [
       "AnnData object with n_obs × n_vars = 195421 × 33538 \n",
       "    obs: 'NRP', 'age_group', 'batch', 'cell_source', 'cell_states', 'cell_type', 'cell_types', 'donor', 'gender', 'leiden', 'leiden03', 'leiden04', 'leiden05', 'leiden06', 'leiden07', 'leiden08', 'leiden1', 'leiden_annotated', 'merged_source', 'n_counts', 'n_genes', 'percent_mito', 'percent_ribo', 'region', 'sample', 'scrublet_score', 'source', 'type', 'version'\n",
       "    var: 'gene_ids-Harvard-Nuclei-Cells-mural', 'feature_types-Harvard-Nuclei-Cells-mural', 'gene_ids-Sanger-Nuclei-Cells-mural', 'feature_types-Sanger-Nuclei-Cells-mural', 'gene_ids-Sanger-Cells-Cells-mural', 'feature_types-Sanger-Cells-Cells-mural', 'gene_ids-Sanger-CD45-Cells-mural', 'feature_types-Sanger-CD45-Cells-mural', 'gene_ids-Harvard-Nuclei-CD45-mural', 'feature_types-Harvard-Nuclei-CD45-mural', 'gene_ids-Sanger-Nuclei-CD45-mural', 'feature_types-Sanger-Nuclei-CD45-mural', 'gene_ids-Sanger-Cells-CD45-mural', 'feature_types-Sanger-Cells-CD45-mural', 'gene_ids-Sanger-CD45-CD45-mural', 'feature_types-Sanger-CD45-CD45-mural', 'gene_ids-Harvard-Nuclei-Sanger_nuclei-mural', 'feature_types-Harvard-Nuclei-Sanger_nuclei-mural', 'gene_ids-Sanger-Nuclei-Sanger_nuclei-mural', 'feature_types-Sanger-Nuclei-Sanger_nuclei-mural', 'gene_ids-Sanger-Cells-Sanger_nuclei-mural', 'feature_types-Sanger-Cells-Sanger_nuclei-mural', 'gene_ids-Sanger-CD45-Sanger_nuclei-mural', 'feature_types-Sanger-CD45-Sanger_nuclei-mural', 'gene_ids-Harvard-Nuclei-Harvard_nuclei-mural', 'feature_types-Harvard-Nuclei-Harvard_nuclei-mural', 'gene_ids-Sanger-Nuclei-Harvard_nuclei-mural', 'feature_types-Sanger-Nuclei-Harvard_nuclei-mural', 'gene_ids-Sanger-Cells-Harvard_nuclei-mural', 'feature_types-Sanger-Cells-Harvard_nuclei-mural', 'gene_ids-Sanger-CD45-Harvard_nuclei-mural', 'feature_types-Sanger-CD45-Harvard_nuclei-mural', 'gene_ids-Harvard-Nuclei-Cells-endo', 'feature_types-Harvard-Nuclei-Cells-endo', 'gene_ids-Sanger-Nuclei-Cells-endo', 'feature_types-Sanger-Nuclei-Cells-endo', 'gene_ids-Sanger-Cells-Cells-endo', 'feature_types-Sanger-Cells-Cells-endo', 'gene_ids-Sanger-CD45-Cells-endo', 'feature_types-Sanger-CD45-Cells-endo', 'gene_ids-Harvard-Nuclei-CD45-endo', 'feature_types-Harvard-Nuclei-CD45-endo', 'gene_ids-Sanger-Nuclei-CD45-endo', 'feature_types-Sanger-Nuclei-CD45-endo', 'gene_ids-Sanger-Cells-CD45-endo', 'feature_types-Sanger-Cells-CD45-endo', 'gene_ids-Sanger-CD45-CD45-endo', 'feature_types-Sanger-CD45-CD45-endo', 'gene_ids-Harvard-Nuclei-Sanger_nuclei-endo', 'feature_types-Harvard-Nuclei-Sanger_nuclei-endo', 'gene_ids-Sanger-Nuclei-Sanger_nuclei-endo', 'feature_types-Sanger-Nuclei-Sanger_nuclei-endo', 'gene_ids-Sanger-Cells-Sanger_nuclei-endo', 'feature_types-Sanger-Cells-Sanger_nuclei-endo', 'gene_ids-Sanger-CD45-Sanger_nuclei-endo', 'feature_types-Sanger-CD45-Sanger_nuclei-endo', 'gene_ids-Harvard-Nuclei-Harvard_nuclei-endo', 'feature_types-Harvard-Nuclei-Harvard_nuclei-endo', 'gene_ids-Sanger-Nuclei-Harvard_nuclei-endo', 'feature_types-Sanger-Nuclei-Harvard_nuclei-endo', 'gene_ids-Sanger-Cells-Harvard_nuclei-endo', 'feature_types-Sanger-Cells-Harvard_nuclei-endo', 'gene_ids-Sanger-CD45-Harvard_nuclei-endo', 'feature_types-Sanger-CD45-Harvard_nuclei-endo'\n",
       "    obsm: 'X_pca', 'X_umap'"
      ]
     },
     "execution_count": 3,
     "metadata": {},
     "output_type": "execute_result"
    }
   ],
   "source": [
    "heart_raw = sc.read_h5ad('/home/jovyan/Mona/data/8-Vascular/heart_vas_scGEN_ml200512_raw.h5ad')\n",
    "heart_raw"
   ]
  },
  {
   "cell_type": "code",
   "execution_count": 4,
   "metadata": {},
   "outputs": [],
   "source": [
    "population_heart = heart_raw.copy()"
   ]
  },
  {
   "cell_type": "markdown",
   "metadata": {},
   "source": [
    "- Downsample object"
   ]
  },
  {
   "cell_type": "code",
   "execution_count": 5,
   "metadata": {},
   "outputs": [
    {
     "data": {
      "text/plain": [
       "(39000, 29)"
      ]
     },
     "execution_count": 5,
     "metadata": {},
     "output_type": "execute_result"
    }
   ],
   "source": [
    "## down sample to ~20% of the size\n",
    "pop_subset = pd.DataFrame.sample(population_heart.obs, n = 39000)\n",
    "pop_subset.shape"
   ]
  },
  {
   "cell_type": "code",
   "execution_count": 6,
   "metadata": {},
   "outputs": [
    {
     "data": {
      "text/plain": [
       "(39000, 33538)"
      ]
     },
     "execution_count": 6,
     "metadata": {},
     "output_type": "execute_result"
    }
   ],
   "source": [
    "str_subset = population_heart[population_heart.obs.index.isin(pop_subset.index)]\n",
    "str_subset.shape"
   ]
  },
  {
   "cell_type": "code",
   "execution_count": 7,
   "metadata": {},
   "outputs": [
    {
     "data": {
      "text/html": [
       "<div>\n",
       "<style scoped>\n",
       "    .dataframe tbody tr th:only-of-type {\n",
       "        vertical-align: middle;\n",
       "    }\n",
       "\n",
       "    .dataframe tbody tr th {\n",
       "        vertical-align: top;\n",
       "    }\n",
       "\n",
       "    .dataframe thead th {\n",
       "        text-align: right;\n",
       "    }\n",
       "</style>\n",
       "<table border=\"1\" class=\"dataframe\">\n",
       "  <thead>\n",
       "    <tr style=\"text-align: right;\">\n",
       "      <th></th>\n",
       "      <th>gene_ids-Harvard-Nuclei-Cells-mural</th>\n",
       "      <th>feature_types-Harvard-Nuclei-Cells-mural</th>\n",
       "      <th>gene_ids-Sanger-Nuclei-Cells-mural</th>\n",
       "      <th>feature_types-Sanger-Nuclei-Cells-mural</th>\n",
       "      <th>gene_ids-Sanger-Cells-Cells-mural</th>\n",
       "      <th>feature_types-Sanger-Cells-Cells-mural</th>\n",
       "      <th>gene_ids-Sanger-CD45-Cells-mural</th>\n",
       "      <th>feature_types-Sanger-CD45-Cells-mural</th>\n",
       "      <th>gene_ids-Harvard-Nuclei-CD45-mural</th>\n",
       "      <th>feature_types-Harvard-Nuclei-CD45-mural</th>\n",
       "      <th>...</th>\n",
       "      <th>gene_ids-Sanger-CD45-Sanger_nuclei-endo</th>\n",
       "      <th>feature_types-Sanger-CD45-Sanger_nuclei-endo</th>\n",
       "      <th>gene_ids-Harvard-Nuclei-Harvard_nuclei-endo</th>\n",
       "      <th>feature_types-Harvard-Nuclei-Harvard_nuclei-endo</th>\n",
       "      <th>gene_ids-Sanger-Nuclei-Harvard_nuclei-endo</th>\n",
       "      <th>feature_types-Sanger-Nuclei-Harvard_nuclei-endo</th>\n",
       "      <th>gene_ids-Sanger-Cells-Harvard_nuclei-endo</th>\n",
       "      <th>feature_types-Sanger-Cells-Harvard_nuclei-endo</th>\n",
       "      <th>gene_ids-Sanger-CD45-Harvard_nuclei-endo</th>\n",
       "      <th>feature_types-Sanger-CD45-Harvard_nuclei-endo</th>\n",
       "    </tr>\n",
       "  </thead>\n",
       "  <tbody>\n",
       "    <tr>\n",
       "      <th>MIR1302-2HG</th>\n",
       "      <td>ENSG00000243485</td>\n",
       "      <td>Gene Expression</td>\n",
       "      <td>ENSG00000243485</td>\n",
       "      <td>0</td>\n",
       "      <td>ENSG00000243485</td>\n",
       "      <td>0</td>\n",
       "      <td>ENSG00000243485</td>\n",
       "      <td>0</td>\n",
       "      <td>ENSG00000243485</td>\n",
       "      <td>Gene Expression</td>\n",
       "      <td>...</td>\n",
       "      <td>ENSG00000243485</td>\n",
       "      <td>0</td>\n",
       "      <td>ENSG00000243485</td>\n",
       "      <td>Gene Expression</td>\n",
       "      <td>ENSG00000243485</td>\n",
       "      <td>0</td>\n",
       "      <td>ENSG00000243485</td>\n",
       "      <td>0</td>\n",
       "      <td>ENSG00000243485</td>\n",
       "      <td>0</td>\n",
       "    </tr>\n",
       "    <tr>\n",
       "      <th>FAM138A</th>\n",
       "      <td>ENSG00000237613</td>\n",
       "      <td>Gene Expression</td>\n",
       "      <td>ENSG00000237613</td>\n",
       "      <td>0</td>\n",
       "      <td>ENSG00000237613</td>\n",
       "      <td>0</td>\n",
       "      <td>ENSG00000237613</td>\n",
       "      <td>0</td>\n",
       "      <td>ENSG00000237613</td>\n",
       "      <td>Gene Expression</td>\n",
       "      <td>...</td>\n",
       "      <td>ENSG00000237613</td>\n",
       "      <td>0</td>\n",
       "      <td>ENSG00000237613</td>\n",
       "      <td>Gene Expression</td>\n",
       "      <td>ENSG00000237613</td>\n",
       "      <td>0</td>\n",
       "      <td>ENSG00000237613</td>\n",
       "      <td>0</td>\n",
       "      <td>ENSG00000237613</td>\n",
       "      <td>0</td>\n",
       "    </tr>\n",
       "    <tr>\n",
       "      <th>OR4F5</th>\n",
       "      <td>ENSG00000186092</td>\n",
       "      <td>Gene Expression</td>\n",
       "      <td>ENSG00000186092</td>\n",
       "      <td>0</td>\n",
       "      <td>ENSG00000186092</td>\n",
       "      <td>0</td>\n",
       "      <td>ENSG00000186092</td>\n",
       "      <td>0</td>\n",
       "      <td>ENSG00000186092</td>\n",
       "      <td>Gene Expression</td>\n",
       "      <td>...</td>\n",
       "      <td>ENSG00000186092</td>\n",
       "      <td>0</td>\n",
       "      <td>ENSG00000186092</td>\n",
       "      <td>Gene Expression</td>\n",
       "      <td>ENSG00000186092</td>\n",
       "      <td>0</td>\n",
       "      <td>ENSG00000186092</td>\n",
       "      <td>0</td>\n",
       "      <td>ENSG00000186092</td>\n",
       "      <td>0</td>\n",
       "    </tr>\n",
       "    <tr>\n",
       "      <th>AL627309.1</th>\n",
       "      <td>ENSG00000238009</td>\n",
       "      <td>Gene Expression</td>\n",
       "      <td>ENSG00000238009</td>\n",
       "      <td>0</td>\n",
       "      <td>ENSG00000238009</td>\n",
       "      <td>0</td>\n",
       "      <td>ENSG00000238009</td>\n",
       "      <td>0</td>\n",
       "      <td>ENSG00000238009</td>\n",
       "      <td>Gene Expression</td>\n",
       "      <td>...</td>\n",
       "      <td>ENSG00000238009</td>\n",
       "      <td>0</td>\n",
       "      <td>ENSG00000238009</td>\n",
       "      <td>Gene Expression</td>\n",
       "      <td>ENSG00000238009</td>\n",
       "      <td>0</td>\n",
       "      <td>ENSG00000238009</td>\n",
       "      <td>0</td>\n",
       "      <td>ENSG00000238009</td>\n",
       "      <td>0</td>\n",
       "    </tr>\n",
       "    <tr>\n",
       "      <th>AL627309.3</th>\n",
       "      <td>ENSG00000239945</td>\n",
       "      <td>Gene Expression</td>\n",
       "      <td>ENSG00000239945</td>\n",
       "      <td>0</td>\n",
       "      <td>ENSG00000239945</td>\n",
       "      <td>0</td>\n",
       "      <td>ENSG00000239945</td>\n",
       "      <td>0</td>\n",
       "      <td>ENSG00000239945</td>\n",
       "      <td>Gene Expression</td>\n",
       "      <td>...</td>\n",
       "      <td>ENSG00000239945</td>\n",
       "      <td>0</td>\n",
       "      <td>ENSG00000239945</td>\n",
       "      <td>Gene Expression</td>\n",
       "      <td>ENSG00000239945</td>\n",
       "      <td>0</td>\n",
       "      <td>ENSG00000239945</td>\n",
       "      <td>0</td>\n",
       "      <td>ENSG00000239945</td>\n",
       "      <td>0</td>\n",
       "    </tr>\n",
       "  </tbody>\n",
       "</table>\n",
       "<p>5 rows × 64 columns</p>\n",
       "</div>"
      ],
      "text/plain": [
       "            gene_ids-Harvard-Nuclei-Cells-mural  \\\n",
       "MIR1302-2HG                     ENSG00000243485   \n",
       "FAM138A                         ENSG00000237613   \n",
       "OR4F5                           ENSG00000186092   \n",
       "AL627309.1                      ENSG00000238009   \n",
       "AL627309.3                      ENSG00000239945   \n",
       "\n",
       "            feature_types-Harvard-Nuclei-Cells-mural  \\\n",
       "MIR1302-2HG                          Gene Expression   \n",
       "FAM138A                              Gene Expression   \n",
       "OR4F5                                Gene Expression   \n",
       "AL627309.1                           Gene Expression   \n",
       "AL627309.3                           Gene Expression   \n",
       "\n",
       "            gene_ids-Sanger-Nuclei-Cells-mural  \\\n",
       "MIR1302-2HG                    ENSG00000243485   \n",
       "FAM138A                        ENSG00000237613   \n",
       "OR4F5                          ENSG00000186092   \n",
       "AL627309.1                     ENSG00000238009   \n",
       "AL627309.3                     ENSG00000239945   \n",
       "\n",
       "             feature_types-Sanger-Nuclei-Cells-mural  \\\n",
       "MIR1302-2HG                                        0   \n",
       "FAM138A                                            0   \n",
       "OR4F5                                              0   \n",
       "AL627309.1                                         0   \n",
       "AL627309.3                                         0   \n",
       "\n",
       "            gene_ids-Sanger-Cells-Cells-mural  \\\n",
       "MIR1302-2HG                   ENSG00000243485   \n",
       "FAM138A                       ENSG00000237613   \n",
       "OR4F5                         ENSG00000186092   \n",
       "AL627309.1                    ENSG00000238009   \n",
       "AL627309.3                    ENSG00000239945   \n",
       "\n",
       "             feature_types-Sanger-Cells-Cells-mural  \\\n",
       "MIR1302-2HG                                       0   \n",
       "FAM138A                                           0   \n",
       "OR4F5                                             0   \n",
       "AL627309.1                                        0   \n",
       "AL627309.3                                        0   \n",
       "\n",
       "            gene_ids-Sanger-CD45-Cells-mural  \\\n",
       "MIR1302-2HG                  ENSG00000243485   \n",
       "FAM138A                      ENSG00000237613   \n",
       "OR4F5                        ENSG00000186092   \n",
       "AL627309.1                   ENSG00000238009   \n",
       "AL627309.3                   ENSG00000239945   \n",
       "\n",
       "             feature_types-Sanger-CD45-Cells-mural  \\\n",
       "MIR1302-2HG                                      0   \n",
       "FAM138A                                          0   \n",
       "OR4F5                                            0   \n",
       "AL627309.1                                       0   \n",
       "AL627309.3                                       0   \n",
       "\n",
       "            gene_ids-Harvard-Nuclei-CD45-mural  \\\n",
       "MIR1302-2HG                    ENSG00000243485   \n",
       "FAM138A                        ENSG00000237613   \n",
       "OR4F5                          ENSG00000186092   \n",
       "AL627309.1                     ENSG00000238009   \n",
       "AL627309.3                     ENSG00000239945   \n",
       "\n",
       "            feature_types-Harvard-Nuclei-CD45-mural  ...  \\\n",
       "MIR1302-2HG                         Gene Expression  ...   \n",
       "FAM138A                             Gene Expression  ...   \n",
       "OR4F5                               Gene Expression  ...   \n",
       "AL627309.1                          Gene Expression  ...   \n",
       "AL627309.3                          Gene Expression  ...   \n",
       "\n",
       "            gene_ids-Sanger-CD45-Sanger_nuclei-endo  \\\n",
       "MIR1302-2HG                         ENSG00000243485   \n",
       "FAM138A                             ENSG00000237613   \n",
       "OR4F5                               ENSG00000186092   \n",
       "AL627309.1                          ENSG00000238009   \n",
       "AL627309.3                          ENSG00000239945   \n",
       "\n",
       "             feature_types-Sanger-CD45-Sanger_nuclei-endo  \\\n",
       "MIR1302-2HG                                             0   \n",
       "FAM138A                                                 0   \n",
       "OR4F5                                                   0   \n",
       "AL627309.1                                              0   \n",
       "AL627309.3                                              0   \n",
       "\n",
       "            gene_ids-Harvard-Nuclei-Harvard_nuclei-endo  \\\n",
       "MIR1302-2HG                             ENSG00000243485   \n",
       "FAM138A                                 ENSG00000237613   \n",
       "OR4F5                                   ENSG00000186092   \n",
       "AL627309.1                              ENSG00000238009   \n",
       "AL627309.3                              ENSG00000239945   \n",
       "\n",
       "             feature_types-Harvard-Nuclei-Harvard_nuclei-endo  \\\n",
       "MIR1302-2HG                                   Gene Expression   \n",
       "FAM138A                                       Gene Expression   \n",
       "OR4F5                                         Gene Expression   \n",
       "AL627309.1                                    Gene Expression   \n",
       "AL627309.3                                    Gene Expression   \n",
       "\n",
       "            gene_ids-Sanger-Nuclei-Harvard_nuclei-endo  \\\n",
       "MIR1302-2HG                            ENSG00000243485   \n",
       "FAM138A                                ENSG00000237613   \n",
       "OR4F5                                  ENSG00000186092   \n",
       "AL627309.1                             ENSG00000238009   \n",
       "AL627309.3                             ENSG00000239945   \n",
       "\n",
       "             feature_types-Sanger-Nuclei-Harvard_nuclei-endo  \\\n",
       "MIR1302-2HG                                                0   \n",
       "FAM138A                                                    0   \n",
       "OR4F5                                                      0   \n",
       "AL627309.1                                                 0   \n",
       "AL627309.3                                                 0   \n",
       "\n",
       "            gene_ids-Sanger-Cells-Harvard_nuclei-endo  \\\n",
       "MIR1302-2HG                           ENSG00000243485   \n",
       "FAM138A                               ENSG00000237613   \n",
       "OR4F5                                 ENSG00000186092   \n",
       "AL627309.1                            ENSG00000238009   \n",
       "AL627309.3                            ENSG00000239945   \n",
       "\n",
       "            feature_types-Sanger-Cells-Harvard_nuclei-endo  \\\n",
       "MIR1302-2HG                                              0   \n",
       "FAM138A                                                  0   \n",
       "OR4F5                                                    0   \n",
       "AL627309.1                                               0   \n",
       "AL627309.3                                               0   \n",
       "\n",
       "            gene_ids-Sanger-CD45-Harvard_nuclei-endo  \\\n",
       "MIR1302-2HG                          ENSG00000243485   \n",
       "FAM138A                              ENSG00000237613   \n",
       "OR4F5                                ENSG00000186092   \n",
       "AL627309.1                           ENSG00000238009   \n",
       "AL627309.3                           ENSG00000239945   \n",
       "\n",
       "             feature_types-Sanger-CD45-Harvard_nuclei-endo  \n",
       "MIR1302-2HG                                              0  \n",
       "FAM138A                                                  0  \n",
       "OR4F5                                                    0  \n",
       "AL627309.1                                               0  \n",
       "AL627309.3                                               0  \n",
       "\n",
       "[5 rows x 64 columns]"
      ]
     },
     "execution_count": 7,
     "metadata": {},
     "output_type": "execute_result"
    }
   ],
   "source": [
    "str_subset.var.head()"
   ]
  },
  {
   "cell_type": "code",
   "execution_count": 8,
   "metadata": {},
   "outputs": [
    {
     "data": {
      "text/plain": [
       "(39000, 33538)"
      ]
     },
     "execution_count": 8,
     "metadata": {},
     "output_type": "execute_result"
    }
   ],
   "source": [
    "str_subset.X.shape"
   ]
  },
  {
   "cell_type": "code",
   "execution_count": 9,
   "metadata": {},
   "outputs": [
    {
     "data": {
      "text/plain": [
       "(39000, 33538)"
      ]
     },
     "execution_count": 9,
     "metadata": {},
     "output_type": "execute_result"
    }
   ],
   "source": [
    "str_subset.shape"
   ]
  },
  {
   "cell_type": "code",
   "execution_count": 10,
   "metadata": {},
   "outputs": [
    {
     "data": {
      "text/plain": [
       "Index(['ACATCAGCATGACATC-1-HCAHeart7606896-Sanger-Cells-Cells-mural',\n",
       "       'ACCTTTATCAATACCG-1-HCAHeart7606896-Sanger-Cells-Cells-mural',\n",
       "       'ATCATCTCATGTTGAC-1-HCAHeart7606896-Sanger-Cells-Cells-mural',\n",
       "       'CAACCAAAGCGAAGGG-1-HCAHeart7606896-Sanger-Cells-Cells-mural',\n",
       "       'CAGCTGGAGCAGGCTA-1-HCAHeart7606896-Sanger-Cells-Cells-mural'],\n",
       "      dtype='object')"
      ]
     },
     "execution_count": 10,
     "metadata": {},
     "output_type": "execute_result"
    }
   ],
   "source": [
    "str_subset.obs_names[:5]"
   ]
  },
  {
   "cell_type": "code",
   "execution_count": 11,
   "metadata": {},
   "outputs": [],
   "source": [
    "holder = str_subset[str_subset.obs_names]"
   ]
  },
  {
   "cell_type": "code",
   "execution_count": 12,
   "metadata": {},
   "outputs": [
    {
     "data": {
      "text/plain": [
       "(39000, 33538)"
      ]
     },
     "execution_count": 12,
     "metadata": {},
     "output_type": "execute_result"
    }
   ],
   "source": [
    "holder.X.shape"
   ]
  },
  {
   "cell_type": "code",
   "execution_count": 13,
   "metadata": {},
   "outputs": [
    {
     "data": {
      "text/plain": [
       "Index(['MIR1302-2HG', 'FAM138A', 'OR4F5', 'AL627309.1', 'AL627309.3',\n",
       "       'AL627309.2', 'AL627309.4', 'AL732372.1', 'OR4F29', 'AC114498.1',\n",
       "       ...\n",
       "       'AC007325.2', 'BX072566.1', 'AL354822.1', 'AC023491.2', 'AC004556.1',\n",
       "       'AC233755.2', 'AC233755.1', 'AC240274.1', 'AC213203.1', 'FAM231C'],\n",
       "      dtype='object', length=33538)"
      ]
     },
     "execution_count": 13,
     "metadata": {},
     "output_type": "execute_result"
    }
   ],
   "source": [
    "holder.var.index"
   ]
  },
  {
   "cell_type": "code",
   "execution_count": 14,
   "metadata": {},
   "outputs": [],
   "source": [
    "annot_key = 'cell_states'\n",
    "gene_names = holder.var.index\n",
    "\n",
    "counts = pd.DataFrame(holder.X.T.todense(), index = gene_names, columns = holder.obs_names)\n",
    "meta = pd.DataFrame(holder.obs[annot_key])\n",
    "counts.to_csv('/home/jovyan/Mona/data/CellphoneDB/8-Vascular/counts.tsv', sep = '\\t')\n",
    "meta.to_csv('/home/jovyan/Mona/data/CellphoneDB/8-Vascular/meta.tsv', sep = '\\t')"
   ]
  },
  {
   "cell_type": "raw",
   "metadata": {},
   "source": [
    "## the command used to run the CellPhoneDB Analysis in the command line\n",
    "cellphonedb method statistical_analysis meta.tsv counts.tsv --counts-data=gene_name --threads 20"
   ]
  }
 ],
 "metadata": {
  "kernelspec": {
   "display_name": "Python 3",
   "language": "python",
   "name": "python3"
  },
  "language_info": {
   "codemirror_mode": {
    "name": "ipython",
    "version": 3
   },
   "file_extension": ".py",
   "mimetype": "text/x-python",
   "name": "python",
   "nbconvert_exporter": "python",
   "pygments_lexer": "ipython3",
   "version": "3.7.6"
  }
 },
 "nbformat": 4,
 "nbformat_minor": 4
}
