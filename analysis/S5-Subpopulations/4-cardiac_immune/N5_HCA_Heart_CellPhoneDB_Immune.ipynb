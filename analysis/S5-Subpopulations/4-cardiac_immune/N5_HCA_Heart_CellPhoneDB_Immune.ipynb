{
 "cells": [
  {
   "cell_type": "markdown",
   "metadata": {},
   "source": [
    "## Notebook for the generation of files used from `cellphonedb`\n",
    "\n",
    "- Carlos Talavera-López Ph.D - WSI\n",
    "- v200720"
   ]
  },
  {
   "cell_type": "markdown",
   "metadata": {},
   "source": [
    "### Import required modules"
   ]
  },
  {
   "cell_type": "code",
   "execution_count": 1,
   "metadata": {},
   "outputs": [
    {
     "name": "stderr",
     "output_type": "stream",
     "text": [
      "/opt/conda/lib/python3.7/site-packages/dask/config.py:161: YAMLLoadWarning: calling yaml.load() without Loader=... is deprecated, as the default Loader is unsafe. Please read https://msg.pyyaml.org/load for full details.\n",
      "  data = yaml.load(f.read()) or {}\n"
     ]
    }
   ],
   "source": [
    "import os\n",
    "import numpy as np\n",
    "import pandas as pd\n",
    "import scanpy as sc"
   ]
  },
  {
   "cell_type": "markdown",
   "metadata": {},
   "source": [
    "### Read object"
   ]
  },
  {
   "cell_type": "code",
   "execution_count": 2,
   "metadata": {},
   "outputs": [
    {
     "data": {
      "text/plain": [
       "(16479, 33538)"
      ]
     },
     "execution_count": 2,
     "metadata": {},
     "output_type": "execute_result"
    }
   ],
   "source": [
    "population_heart = sc.read_h5ad('/home/jovyan/experiments/hca_heart/2-subpopulation_manifolds/4-immune/heart_immune_scGen_ctl200609_annotated_raw.h5ad')\n",
    "population_heart.shape"
   ]
  },
  {
   "cell_type": "code",
   "execution_count": 5,
   "metadata": {},
   "outputs": [
    {
     "data": {
      "text/html": [
       "<div>\n",
       "<style scoped>\n",
       "    .dataframe tbody tr th:only-of-type {\n",
       "        vertical-align: middle;\n",
       "    }\n",
       "\n",
       "    .dataframe tbody tr th {\n",
       "        vertical-align: top;\n",
       "    }\n",
       "\n",
       "    .dataframe thead th {\n",
       "        text-align: right;\n",
       "    }\n",
       "</style>\n",
       "<table border=\"1\" class=\"dataframe\">\n",
       "  <thead>\n",
       "    <tr style=\"text-align: right;\">\n",
       "      <th></th>\n",
       "      <th>gene_ids-Harvard-Nuclei-Harvard-Nuclei-lymphoid</th>\n",
       "      <th>feature_types-Harvard-Nuclei-Harvard-Nuclei-lymphoid</th>\n",
       "      <th>gene_ids-Sanger-Nuclei-Harvard-Nuclei-lymphoid</th>\n",
       "      <th>feature_types-Sanger-Nuclei-Harvard-Nuclei-lymphoid</th>\n",
       "      <th>gene_ids-Sanger-Cells-Harvard-Nuclei-lymphoid</th>\n",
       "      <th>feature_types-Sanger-Cells-Harvard-Nuclei-lymphoid</th>\n",
       "      <th>gene_ids-Sanger-CD45-Harvard-Nuclei-lymphoid</th>\n",
       "      <th>feature_types-Sanger-CD45-Harvard-Nuclei-lymphoid</th>\n",
       "      <th>gene_ids-Harvard-Nuclei-Sanger-Nuclei-lymphoid</th>\n",
       "      <th>feature_types-Harvard-Nuclei-Sanger-Nuclei-lymphoid</th>\n",
       "      <th>...</th>\n",
       "      <th>gene_ids-Sanger-CD45-Sanger-Cells-myeloid</th>\n",
       "      <th>feature_types-Sanger-CD45-Sanger-Cells-myeloid</th>\n",
       "      <th>gene_ids-Harvard-Nuclei-Sanger-CD45-myeloid</th>\n",
       "      <th>feature_types-Harvard-Nuclei-Sanger-CD45-myeloid</th>\n",
       "      <th>gene_ids-Sanger-Nuclei-Sanger-CD45-myeloid</th>\n",
       "      <th>feature_types-Sanger-Nuclei-Sanger-CD45-myeloid</th>\n",
       "      <th>gene_ids-Sanger-Cells-Sanger-CD45-myeloid</th>\n",
       "      <th>feature_types-Sanger-Cells-Sanger-CD45-myeloid</th>\n",
       "      <th>gene_ids-Sanger-CD45-Sanger-CD45-myeloid</th>\n",
       "      <th>feature_types-Sanger-CD45-Sanger-CD45-myeloid</th>\n",
       "    </tr>\n",
       "  </thead>\n",
       "  <tbody>\n",
       "    <tr>\n",
       "      <th>MIR1302-2HG</th>\n",
       "      <td>ENSG00000243485</td>\n",
       "      <td>Gene Expression</td>\n",
       "      <td>ENSG00000243485</td>\n",
       "      <td>Gene Expression</td>\n",
       "      <td>ENSG00000243485</td>\n",
       "      <td>Gene Expression</td>\n",
       "      <td>ENSG00000243485</td>\n",
       "      <td>Gene Expression</td>\n",
       "      <td>ENSG00000243485</td>\n",
       "      <td>Gene Expression</td>\n",
       "      <td>...</td>\n",
       "      <td>ENSG00000243485</td>\n",
       "      <td>Gene Expression</td>\n",
       "      <td>ENSG00000243485</td>\n",
       "      <td>Gene Expression</td>\n",
       "      <td>ENSG00000243485</td>\n",
       "      <td>Gene Expression</td>\n",
       "      <td>ENSG00000243485</td>\n",
       "      <td>Gene Expression</td>\n",
       "      <td>ENSG00000243485</td>\n",
       "      <td>Gene Expression</td>\n",
       "    </tr>\n",
       "    <tr>\n",
       "      <th>FAM138A</th>\n",
       "      <td>ENSG00000237613</td>\n",
       "      <td>Gene Expression</td>\n",
       "      <td>ENSG00000237613</td>\n",
       "      <td>Gene Expression</td>\n",
       "      <td>ENSG00000237613</td>\n",
       "      <td>Gene Expression</td>\n",
       "      <td>ENSG00000237613</td>\n",
       "      <td>Gene Expression</td>\n",
       "      <td>ENSG00000237613</td>\n",
       "      <td>Gene Expression</td>\n",
       "      <td>...</td>\n",
       "      <td>ENSG00000237613</td>\n",
       "      <td>Gene Expression</td>\n",
       "      <td>ENSG00000237613</td>\n",
       "      <td>Gene Expression</td>\n",
       "      <td>ENSG00000237613</td>\n",
       "      <td>Gene Expression</td>\n",
       "      <td>ENSG00000237613</td>\n",
       "      <td>Gene Expression</td>\n",
       "      <td>ENSG00000237613</td>\n",
       "      <td>Gene Expression</td>\n",
       "    </tr>\n",
       "    <tr>\n",
       "      <th>OR4F5</th>\n",
       "      <td>ENSG00000186092</td>\n",
       "      <td>Gene Expression</td>\n",
       "      <td>ENSG00000186092</td>\n",
       "      <td>Gene Expression</td>\n",
       "      <td>ENSG00000186092</td>\n",
       "      <td>Gene Expression</td>\n",
       "      <td>ENSG00000186092</td>\n",
       "      <td>Gene Expression</td>\n",
       "      <td>ENSG00000186092</td>\n",
       "      <td>Gene Expression</td>\n",
       "      <td>...</td>\n",
       "      <td>ENSG00000186092</td>\n",
       "      <td>Gene Expression</td>\n",
       "      <td>ENSG00000186092</td>\n",
       "      <td>Gene Expression</td>\n",
       "      <td>ENSG00000186092</td>\n",
       "      <td>Gene Expression</td>\n",
       "      <td>ENSG00000186092</td>\n",
       "      <td>Gene Expression</td>\n",
       "      <td>ENSG00000186092</td>\n",
       "      <td>Gene Expression</td>\n",
       "    </tr>\n",
       "    <tr>\n",
       "      <th>AL627309.1</th>\n",
       "      <td>ENSG00000238009</td>\n",
       "      <td>Gene Expression</td>\n",
       "      <td>ENSG00000238009</td>\n",
       "      <td>Gene Expression</td>\n",
       "      <td>ENSG00000238009</td>\n",
       "      <td>Gene Expression</td>\n",
       "      <td>ENSG00000238009</td>\n",
       "      <td>Gene Expression</td>\n",
       "      <td>ENSG00000238009</td>\n",
       "      <td>Gene Expression</td>\n",
       "      <td>...</td>\n",
       "      <td>ENSG00000238009</td>\n",
       "      <td>Gene Expression</td>\n",
       "      <td>ENSG00000238009</td>\n",
       "      <td>Gene Expression</td>\n",
       "      <td>ENSG00000238009</td>\n",
       "      <td>Gene Expression</td>\n",
       "      <td>ENSG00000238009</td>\n",
       "      <td>Gene Expression</td>\n",
       "      <td>ENSG00000238009</td>\n",
       "      <td>Gene Expression</td>\n",
       "    </tr>\n",
       "    <tr>\n",
       "      <th>AL627309.3</th>\n",
       "      <td>ENSG00000239945</td>\n",
       "      <td>Gene Expression</td>\n",
       "      <td>ENSG00000239945</td>\n",
       "      <td>Gene Expression</td>\n",
       "      <td>ENSG00000239945</td>\n",
       "      <td>Gene Expression</td>\n",
       "      <td>ENSG00000239945</td>\n",
       "      <td>Gene Expression</td>\n",
       "      <td>ENSG00000239945</td>\n",
       "      <td>Gene Expression</td>\n",
       "      <td>...</td>\n",
       "      <td>ENSG00000239945</td>\n",
       "      <td>Gene Expression</td>\n",
       "      <td>ENSG00000239945</td>\n",
       "      <td>Gene Expression</td>\n",
       "      <td>ENSG00000239945</td>\n",
       "      <td>Gene Expression</td>\n",
       "      <td>ENSG00000239945</td>\n",
       "      <td>Gene Expression</td>\n",
       "      <td>ENSG00000239945</td>\n",
       "      <td>Gene Expression</td>\n",
       "    </tr>\n",
       "  </tbody>\n",
       "</table>\n",
       "<p>5 rows × 64 columns</p>\n",
       "</div>"
      ],
      "text/plain": [
       "            gene_ids-Harvard-Nuclei-Harvard-Nuclei-lymphoid  \\\n",
       "MIR1302-2HG                                 ENSG00000243485   \n",
       "FAM138A                                     ENSG00000237613   \n",
       "OR4F5                                       ENSG00000186092   \n",
       "AL627309.1                                  ENSG00000238009   \n",
       "AL627309.3                                  ENSG00000239945   \n",
       "\n",
       "            feature_types-Harvard-Nuclei-Harvard-Nuclei-lymphoid  \\\n",
       "MIR1302-2HG                                    Gene Expression     \n",
       "FAM138A                                        Gene Expression     \n",
       "OR4F5                                          Gene Expression     \n",
       "AL627309.1                                     Gene Expression     \n",
       "AL627309.3                                     Gene Expression     \n",
       "\n",
       "            gene_ids-Sanger-Nuclei-Harvard-Nuclei-lymphoid  \\\n",
       "MIR1302-2HG                                ENSG00000243485   \n",
       "FAM138A                                    ENSG00000237613   \n",
       "OR4F5                                      ENSG00000186092   \n",
       "AL627309.1                                 ENSG00000238009   \n",
       "AL627309.3                                 ENSG00000239945   \n",
       "\n",
       "            feature_types-Sanger-Nuclei-Harvard-Nuclei-lymphoid  \\\n",
       "MIR1302-2HG                                    Gene Expression    \n",
       "FAM138A                                        Gene Expression    \n",
       "OR4F5                                          Gene Expression    \n",
       "AL627309.1                                     Gene Expression    \n",
       "AL627309.3                                     Gene Expression    \n",
       "\n",
       "            gene_ids-Sanger-Cells-Harvard-Nuclei-lymphoid  \\\n",
       "MIR1302-2HG                               ENSG00000243485   \n",
       "FAM138A                                   ENSG00000237613   \n",
       "OR4F5                                     ENSG00000186092   \n",
       "AL627309.1                                ENSG00000238009   \n",
       "AL627309.3                                ENSG00000239945   \n",
       "\n",
       "            feature_types-Sanger-Cells-Harvard-Nuclei-lymphoid  \\\n",
       "MIR1302-2HG                                    Gene Expression   \n",
       "FAM138A                                        Gene Expression   \n",
       "OR4F5                                          Gene Expression   \n",
       "AL627309.1                                     Gene Expression   \n",
       "AL627309.3                                     Gene Expression   \n",
       "\n",
       "            gene_ids-Sanger-CD45-Harvard-Nuclei-lymphoid  \\\n",
       "MIR1302-2HG                              ENSG00000243485   \n",
       "FAM138A                                  ENSG00000237613   \n",
       "OR4F5                                    ENSG00000186092   \n",
       "AL627309.1                               ENSG00000238009   \n",
       "AL627309.3                               ENSG00000239945   \n",
       "\n",
       "            feature_types-Sanger-CD45-Harvard-Nuclei-lymphoid  \\\n",
       "MIR1302-2HG                                   Gene Expression   \n",
       "FAM138A                                       Gene Expression   \n",
       "OR4F5                                         Gene Expression   \n",
       "AL627309.1                                    Gene Expression   \n",
       "AL627309.3                                    Gene Expression   \n",
       "\n",
       "            gene_ids-Harvard-Nuclei-Sanger-Nuclei-lymphoid  \\\n",
       "MIR1302-2HG                                ENSG00000243485   \n",
       "FAM138A                                    ENSG00000237613   \n",
       "OR4F5                                      ENSG00000186092   \n",
       "AL627309.1                                 ENSG00000238009   \n",
       "AL627309.3                                 ENSG00000239945   \n",
       "\n",
       "            feature_types-Harvard-Nuclei-Sanger-Nuclei-lymphoid  \\\n",
       "MIR1302-2HG                                    Gene Expression    \n",
       "FAM138A                                        Gene Expression    \n",
       "OR4F5                                          Gene Expression    \n",
       "AL627309.1                                     Gene Expression    \n",
       "AL627309.3                                     Gene Expression    \n",
       "\n",
       "                                 ...                       \\\n",
       "MIR1302-2HG                      ...                        \n",
       "FAM138A                          ...                        \n",
       "OR4F5                            ...                        \n",
       "AL627309.1                       ...                        \n",
       "AL627309.3                       ...                        \n",
       "\n",
       "            gene_ids-Sanger-CD45-Sanger-Cells-myeloid  \\\n",
       "MIR1302-2HG                           ENSG00000243485   \n",
       "FAM138A                               ENSG00000237613   \n",
       "OR4F5                                 ENSG00000186092   \n",
       "AL627309.1                            ENSG00000238009   \n",
       "AL627309.3                            ENSG00000239945   \n",
       "\n",
       "            feature_types-Sanger-CD45-Sanger-Cells-myeloid  \\\n",
       "MIR1302-2HG                                Gene Expression   \n",
       "FAM138A                                    Gene Expression   \n",
       "OR4F5                                      Gene Expression   \n",
       "AL627309.1                                 Gene Expression   \n",
       "AL627309.3                                 Gene Expression   \n",
       "\n",
       "            gene_ids-Harvard-Nuclei-Sanger-CD45-myeloid  \\\n",
       "MIR1302-2HG                             ENSG00000243485   \n",
       "FAM138A                                 ENSG00000237613   \n",
       "OR4F5                                   ENSG00000186092   \n",
       "AL627309.1                              ENSG00000238009   \n",
       "AL627309.3                              ENSG00000239945   \n",
       "\n",
       "            feature_types-Harvard-Nuclei-Sanger-CD45-myeloid  \\\n",
       "MIR1302-2HG                                  Gene Expression   \n",
       "FAM138A                                      Gene Expression   \n",
       "OR4F5                                        Gene Expression   \n",
       "AL627309.1                                   Gene Expression   \n",
       "AL627309.3                                   Gene Expression   \n",
       "\n",
       "            gene_ids-Sanger-Nuclei-Sanger-CD45-myeloid  \\\n",
       "MIR1302-2HG                            ENSG00000243485   \n",
       "FAM138A                                ENSG00000237613   \n",
       "OR4F5                                  ENSG00000186092   \n",
       "AL627309.1                             ENSG00000238009   \n",
       "AL627309.3                             ENSG00000239945   \n",
       "\n",
       "            feature_types-Sanger-Nuclei-Sanger-CD45-myeloid  \\\n",
       "MIR1302-2HG                                 Gene Expression   \n",
       "FAM138A                                     Gene Expression   \n",
       "OR4F5                                       Gene Expression   \n",
       "AL627309.1                                  Gene Expression   \n",
       "AL627309.3                                  Gene Expression   \n",
       "\n",
       "            gene_ids-Sanger-Cells-Sanger-CD45-myeloid  \\\n",
       "MIR1302-2HG                           ENSG00000243485   \n",
       "FAM138A                               ENSG00000237613   \n",
       "OR4F5                                 ENSG00000186092   \n",
       "AL627309.1                            ENSG00000238009   \n",
       "AL627309.3                            ENSG00000239945   \n",
       "\n",
       "            feature_types-Sanger-Cells-Sanger-CD45-myeloid  \\\n",
       "MIR1302-2HG                                Gene Expression   \n",
       "FAM138A                                    Gene Expression   \n",
       "OR4F5                                      Gene Expression   \n",
       "AL627309.1                                 Gene Expression   \n",
       "AL627309.3                                 Gene Expression   \n",
       "\n",
       "            gene_ids-Sanger-CD45-Sanger-CD45-myeloid  \\\n",
       "MIR1302-2HG                          ENSG00000243485   \n",
       "FAM138A                              ENSG00000237613   \n",
       "OR4F5                                ENSG00000186092   \n",
       "AL627309.1                           ENSG00000238009   \n",
       "AL627309.3                           ENSG00000239945   \n",
       "\n",
       "            feature_types-Sanger-CD45-Sanger-CD45-myeloid  \n",
       "MIR1302-2HG                               Gene Expression  \n",
       "FAM138A                                   Gene Expression  \n",
       "OR4F5                                     Gene Expression  \n",
       "AL627309.1                                Gene Expression  \n",
       "AL627309.3                                Gene Expression  \n",
       "\n",
       "[5 rows x 64 columns]"
      ]
     },
     "execution_count": 5,
     "metadata": {},
     "output_type": "execute_result"
    }
   ],
   "source": [
    "population_heart.var.head()"
   ]
  },
  {
   "cell_type": "code",
   "execution_count": 6,
   "metadata": {},
   "outputs": [
    {
     "data": {
      "text/plain": [
       "(39805, 33538)"
      ]
     },
     "execution_count": 6,
     "metadata": {},
     "output_type": "execute_result"
    }
   ],
   "source": [
    "population_heart.X.shape"
   ]
  },
  {
   "cell_type": "code",
   "execution_count": 7,
   "metadata": {},
   "outputs": [
    {
     "data": {
      "text/plain": [
       "(39805, 33538)"
      ]
     },
     "execution_count": 7,
     "metadata": {},
     "output_type": "execute_result"
    }
   ],
   "source": [
    "population_heart.shape"
   ]
  },
  {
   "cell_type": "code",
   "execution_count": 8,
   "metadata": {},
   "outputs": [
    {
     "data": {
      "text/plain": [
       "Index(['AAAGTGAAGTCGGCCT-1-H0015_apex-Harvard-Nuclei-Harvard-Nuclei-lymphoid',\n",
       "       'AAATGGAAGGTCCCTG-1-H0015_apex-Harvard-Nuclei-Harvard-Nuclei-lymphoid',\n",
       "       'AAATGGAGTTGTCTAG-1-H0015_apex-Harvard-Nuclei-Harvard-Nuclei-lymphoid',\n",
       "       'AAGTTCGCAGTGTATC-1-H0015_apex-Harvard-Nuclei-Harvard-Nuclei-lymphoid',\n",
       "       'AATCACGTCCCGTAAA-1-H0015_apex-Harvard-Nuclei-Harvard-Nuclei-lymphoid'],\n",
       "      dtype='object')"
      ]
     },
     "execution_count": 8,
     "metadata": {},
     "output_type": "execute_result"
    }
   ],
   "source": [
    "population_heart.obs_names[:5]"
   ]
  },
  {
   "cell_type": "code",
   "execution_count": 9,
   "metadata": {},
   "outputs": [],
   "source": [
    "holder = population_heart[population_heart.obs_names]"
   ]
  },
  {
   "cell_type": "code",
   "execution_count": 10,
   "metadata": {},
   "outputs": [
    {
     "data": {
      "text/plain": [
       "(39805, 33538)"
      ]
     },
     "execution_count": 10,
     "metadata": {},
     "output_type": "execute_result"
    }
   ],
   "source": [
    "holder.X.shape"
   ]
  },
  {
   "cell_type": "code",
   "execution_count": 11,
   "metadata": {},
   "outputs": [
    {
     "data": {
      "text/plain": [
       "Index(['MIR1302-2HG', 'FAM138A', 'OR4F5', 'AL627309.1', 'AL627309.3',\n",
       "       'AL627309.2', 'AL627309.4', 'AL732372.1', 'OR4F29', 'AC114498.1',\n",
       "       ...\n",
       "       'AC007325.2', 'BX072566.1', 'AL354822.1', 'AC023491.2', 'AC004556.1',\n",
       "       'AC233755.2', 'AC233755.1', 'AC240274.1', 'AC213203.1', 'FAM231C'],\n",
       "      dtype='object', length=33538)"
      ]
     },
     "execution_count": 11,
     "metadata": {},
     "output_type": "execute_result"
    }
   ],
   "source": [
    "holder.var.index"
   ]
  },
  {
   "cell_type": "markdown",
   "metadata": {},
   "source": [
    "### Export object "
   ]
  },
  {
   "cell_type": "raw",
   "metadata": {},
   "source": [
    "holder.write('/home/jovyan/experiments/3-cellphonedb/4-immune/HCA_Heart_Immune_lineages_ctl200204.h5ad')"
   ]
  },
  {
   "cell_type": "code",
   "execution_count": 12,
   "metadata": {},
   "outputs": [],
   "source": [
    "annot_key = ['cell_states', 'region', 'donor', 'gender', 'age_group', 'type']\n",
    "gene_names = holder.var.index\n",
    "\n",
    "counts = pd.DataFrame(holder.X.T.todense(), index = gene_names, columns = holder.obs_names)\n",
    "meta = pd.DataFrame(holder.obs[annot_key])\n",
    "counts.to_csv('/home/jovyan/experiments/3-cellphonedb/4-immune/heart_immune_counts.tsv', sep = '\\t')\n",
    "meta.to_csv('/home/jovyan/experiments/3-cellphonedb/4-immune/heart_immune_meta.tsv', sep = '\\t')"
   ]
  },
  {
   "cell_type": "code",
   "execution_count": null,
   "metadata": {},
   "outputs": [],
   "source": []
  }
 ],
 "metadata": {
  "kernelspec": {
   "display_name": "Python 3",
   "language": "python",
   "name": "python3"
  },
  "language_info": {
   "codemirror_mode": {
    "name": "ipython",
    "version": 3
   },
   "file_extension": ".py",
   "mimetype": "text/x-python",
   "name": "python",
   "nbconvert_exporter": "python",
   "pygments_lexer": "ipython3",
   "version": "3.7.6"
  }
 },
 "nbformat": 4,
 "nbformat_minor": 4
}
